{
  "nbformat": 4,
  "nbformat_minor": 0,
  "metadata": {
    "kernelspec": {
      "display_name": "Python 3",
      "language": "python",
      "name": "python3"
    },
    "language_info": {
      "codemirror_mode": {
        "name": "ipython",
        "version": 3
      },
      "file_extension": ".py",
      "mimetype": "text/x-python",
      "name": "python",
      "nbconvert_exporter": "python",
      "pygments_lexer": "ipython3",
      "version": "3.6.8"
    },
    "colab": {
      "name": "Exercise 2.ipynb",
      "provenance": [],
      "include_colab_link": true
    }
  },
  "cells": [
    {
      "cell_type": "markdown",
      "metadata": {
        "id": "view-in-github",
        "colab_type": "text"
      },
      "source": [
        "<a href=\"https://colab.research.google.com/github/AlexandraVallet/fenicslectures/blob/main/Solution_Braindiffusion5.ipynb\" target=\"_parent\"><img src=\"https://colab.research.google.com/assets/colab-badge.svg\" alt=\"Open In Colab\"/></a>"
      ]
    },
    {
      "cell_type": "markdown",
      "metadata": {
        "id": "HkKHAKZYmu3X"
      },
      "source": [
        "# Diffusion of tracer in the brain\n",
        "\n",
        "The purpose of this notebook is to learn how to solve the diffusion equation using the finite element computing tool FEniCS. Then we propose to apply this knowledge to interpret clinical data of transport and clearance of tracer in human brain.\n",
        "\n",
        "# I/ Sleep deprivation effect on tracer transport and clearance in the human brain\n",
        "\n",
        "By the end of this notebook, we will perform simulations of tracer diffusion in the brain to interpret data from this paper :\n",
        "\n",
        "Sleep deprivation impairs molecular clearance from the human brain,\n",
        "Per Kristian Eide, Vegard Vinje, Are Hugo Pripp, Kent-Andre Mardal, Geir Ringstad,\n",
        "Brain, Volume 144, Issue 3, March 2021, Pages 863–874, https://doi.org/10.1093/brain/awaa443\n",
        "\n",
        "![image.png](https://github.com/AlexandraVallet/fenicslectures/blob/main/images/brain_enrichment.png?raw=1)\n",
        "\n",
        "\n",
        "Abstract : \"It remains an enigma why human beings spend one-third of their life asleep. Experimental data suggest that sleep is required for\n",
        "clearance of waste products from brain metabolism. This has, however, never been verified in humans. The primary aim of the pre-\n",
        "sent study was to examine in vivo whether one night of total sleep deprivation affects molecular clearance from the human brain.\n",
        "Secondarily, we examined whether clearance was affected by subsequent sleep. Multiphase MRI with standardized T1 sequences\n",
        "was performed up to 48 h after intrathecal administration of the contrast agent gadobutrol (0.5 ml of 1 mmol/ml), which served as\n",
        "a tracer molecule. Using FreeSurfer software, we quantified tracer enrichment within 85 brain regions as percentage change from\n",
        "baseline of normalized T1 signals. The cerebral tracer enrichment was compared between two cohorts of individuals; one cohort\n",
        "(n = 7) underwent total sleep deprivation from Day 1 to Day 2 (sleep deprivation group) while an age and gender-matched control\n",
        "group (n = 17; sleep group) was allowed free sleep from Day 1 to Day 2. From Day 2 to 3 all individuals were allowed free sleep.\n",
        "The tracer enriched the brains of the two groups similarly. Sleep deprivation was the sole intervention. One night of sleep depriv-\n",
        "ation impaired clearance of the tracer substance from most brain regions, including the cerebral cortex, white matter and limbic\n",
        "structures, as demonstrated on the morning of Day 2 after intervention (sleep deprivation/sleep). Moreover, the impaired cerebral\n",
        "clearance in the sleep deprivation group was not compensated by subsequent sleep from Day 2 to 3. The present results provide\n",
        "in vivo evidence that one night of total sleep deprivation impairs molecular clearance from the human brain, and that humans do\n",
        "not catch up on lost sleep. \"\n"
      ]
    },
    {
      "cell_type": "markdown",
      "metadata": {
        "id": "X7rvqpn_mu3Y"
      },
      "source": [
        "# II/  Diffusion equation \n",
        "\n",
        "We consider the diffusion of the concentration c of a chemical solute (here the Gadobustrol tracer), as a function of the position x. \n",
        "Experimentally it is known that the flux of this quantity, ie the amount of the quantify crossing a unit area per time, is given by the relation\n",
        "$$ F = - k \\nabla c $$ with k the diffusivity. \n",
        "We note hee the minus sign, as the diffusion flux is directed toward the regions of lower concentration. \n",
        "\n",
        "## Time dependant equation\n",
        "\n",
        "The diffusion equation for the concentration is then given by \n",
        "$$\\frac{\\partial c}{\\partial t}= - k \\Delta c + S(x) $$\n",
        "where $S(x)$ is a source term.\n",
        "\n",
        "## Steady state\n",
        "\n",
        "In the case of a steady problem, we obtain a Laplace problem : \n",
        "\n",
        "\\begin{alignat}{2}\n",
        "-\\Delta c &= f \\quad && \\text{ in } \\Omega \\\\\n",
        "u &= u_{\\mathrm{D}} \\quad && \\text{ on } \\Gamma_{\\mathrm{D}} \\\\\n",
        "\\partial_n u &= g \\quad && \\text{ on } \\Gamma_{\\mathrm{N}}\n",
        "\\end{alignat}\n",
        "\n",
        "with $f=S(x)/k$, $u_{\\mathrm{D}}$ a Dirichlet boundary condition and $ g$ a Neumann boundary condition.\n",
        "\n",
        "Let's try to resolve this equation using FEniCS !\n"
      ]
    },
    {
      "cell_type": "markdown",
      "source": [
        "# III/ Solve the steady problem with FEniCS \n",
        "\n",
        "For hints and more reading on how to solve the Poisson problem in FEniCS, see the [section on the Poisson problem](https://fenicsproject.org/pub/tutorial/html/._ftut1004.html#ch:fundamentals) in the [FEniCS Tutorial](https://fenicsproject.org/tutorial/)."
      ],
      "metadata": {
        "id": "5ACzS32UaBia"
      }
    },
    {
      "cell_type": "markdown",
      "metadata": {
        "id": "hDQtHYzXmu3a"
      },
      "source": [
        "## Creating the computing environment\n",
        "\n",
        "### Importing FEniCS\n",
        "The first thing we need to do is to import `FEniCS` and the meshing library `mshr`."
      ]
    },
    {
      "cell_type": "code",
      "metadata": {
        "id": "xcPIxoFvnXF1",
        "colab": {
          "base_uri": "https://localhost:8080/"
        },
        "outputId": "afe42214-c05d-43ea-8d6a-c3c8876124c9"
      },
      "source": [
        "# Installing and Importing Fenics\n",
        "from google.colab import files\n",
        "\n",
        "import platform, sys\n",
        "python_version=platform.python_version()\n",
        "from distutils.version import LooseVersion, StrictVersion\n",
        "\n",
        "if ( LooseVersion(python_version) < LooseVersion(\"3.0.0\")):\n",
        "    print(\"Python3 is needed!\");\n",
        "    print(\"How to fix: Runtime/Change_runtime_type/Python 3\");\n",
        "    sys.exit()\n",
        "try:\n",
        "    from dolfin import *; from mshr import *\n",
        "except ImportError as e:\n",
        "    !apt-get install -y -qq software-properties-common python-software-properties module-init-tools\n",
        "    !add-apt-repository -y ppa:fenics-packages/fenics\n",
        "    !apt-get update -qq\n",
        "    !apt install -y --no-install-recommends fenics\n",
        "\n"
      ],
      "execution_count": 1,
      "outputs": [
        {
          "output_type": "stream",
          "name": "stdout",
          "text": [
            "E: Package 'python-software-properties' has no installation candidate\n",
            "Hit:1 https://developer.download.nvidia.com/compute/cuda/repos/ubuntu1804/x86_64  InRelease\n",
            "Get:2 https://cloud.r-project.org/bin/linux/ubuntu bionic-cran40/ InRelease [3,626 B]\n",
            "Ign:3 https://developer.download.nvidia.com/compute/machine-learning/repos/ubuntu1804/x86_64  InRelease\n",
            "Hit:4 https://developer.download.nvidia.com/compute/machine-learning/repos/ubuntu1804/x86_64  Release\n",
            "Get:5 http://ppa.launchpad.net/c2d4u.team/c2d4u4.0+/ubuntu bionic InRelease [15.9 kB]\n",
            "Get:6 http://security.ubuntu.com/ubuntu bionic-security InRelease [88.7 kB]\n",
            "Hit:7 http://archive.ubuntu.com/ubuntu bionic InRelease\n",
            "Get:8 http://archive.ubuntu.com/ubuntu bionic-updates InRelease [88.7 kB]\n",
            "Hit:10 http://ppa.launchpad.net/cran/libgit2/ubuntu bionic InRelease\n",
            "Hit:11 http://ppa.launchpad.net/deadsnakes/ppa/ubuntu bionic InRelease\n",
            "Get:12 http://archive.ubuntu.com/ubuntu bionic-backports InRelease [74.6 kB]\n",
            "Get:13 http://ppa.launchpad.net/fenics-packages/fenics/ubuntu bionic InRelease [15.4 kB]\n",
            "Get:14 http://security.ubuntu.com/ubuntu bionic-security/main amd64 Packages [2,734 kB]\n",
            "Hit:15 http://ppa.launchpad.net/graphics-drivers/ppa/ubuntu bionic InRelease\n",
            "Get:16 http://archive.ubuntu.com/ubuntu bionic-updates/main amd64 Packages [3,168 kB]\n",
            "Get:17 http://ppa.launchpad.net/c2d4u.team/c2d4u4.0+/ubuntu bionic/main Sources [1,957 kB]\n",
            "Get:18 http://security.ubuntu.com/ubuntu bionic-security/universe amd64 Packages [1,498 kB]\n",
            "Get:19 http://archive.ubuntu.com/ubuntu bionic-updates/universe amd64 Packages [2,272 kB]\n",
            "Get:20 http://ppa.launchpad.net/c2d4u.team/c2d4u4.0+/ubuntu bionic/main amd64 Packages [1,003 kB]\n",
            "Get:21 http://ppa.launchpad.net/fenics-packages/fenics/ubuntu bionic/main amd64 Packages [7,222 B]\n",
            "Fetched 12.9 MB in 5s (2,710 kB/s)\n",
            "Reading package lists... Done\n",
            "Reading package lists... Done\n",
            "Building dependency tree       \n",
            "Reading state information... Done\n",
            "The following packages were automatically installed and are no longer required:\n",
            "  libnvidia-common-460 nsight-compute-2020.2.0\n",
            "Use 'apt autoremove' to remove them.\n",
            "The following additional packages will be installed:\n",
            "  dolfin-bin dolfin-doc fonts-font-awesome fonts-lato fonts-mathjax libamd2\n",
            "  libbtf1 libcamd2 libccolamd2 libcholmod3 libcolamd2 libcxsparse3\n",
            "  libdolfin-dev libdolfin-dev-common libdolfin2019.2 libeigen3-dev\n",
            "  libfftw3-bin libfftw3-dev libfftw3-long3 libfftw3-mpi-dev libfftw3-mpi3\n",
            "  libfftw3-quad3 libfftw3-single3 libgraphblas1 libhdf5-mpi-dev\n",
            "  libhdf5-openmpi-dev libhypre-2.13.0 libhypre-dev libjs-jquery libjs-mathjax\n",
            "  libjs-modernizr libjs-sphinxdoc libjs-underscore libklu1 libldl2 libmetis5\n",
            "  libmshr-dev libmshr-dev-common libmshr2019.2 libmumps-5.1.2 libmumps-dev\n",
            "  libparpack2 libparpack2-dev libpetsc3.7.7 libpetsc3.7.7-dev libptscotch-6.0\n",
            "  libptscotch-dev librbio2 libscalapack-mpi-dev libscalapack-openmpi-dev\n",
            "  libscalapack-openmpi2.0 libscotch-6.0 libscotch-dev libslepc3.7.4\n",
            "  libslepc3.7.4-dev libspooles-dev libspooles2.2 libspqr2 libsuitesparse-dev\n",
            "  libsuitesparseconfig5 libsuperlu-dist5 libtet1.5 libumfpack5 pybind11-dev\n",
            "  python-ufl-doc python3-dijitso python3-dolfin python3-dolfin-real\n",
            "  python3-ffc python3-fiat python3-mpi4py python3-mpmath python3-mshr\n",
            "  python3-mshr-real python3-numpy python3-petsc4py python3-pkg-resources\n",
            "  python3-pkgconfig python3-ply python3-pybind11 python3-six python3-slepc4py\n",
            "  python3-sympy python3-ufl sphinx-rtd-theme-common\n",
            "Suggested packages:\n",
            "  libeigen3-doc libmrpt-dev libfftw3-doc libhdf5-doc fonts-mathjax-extras\n",
            "  fonts-stix libjs-mathjax-doc petsc-dev libpetsc3.7.7-dbg petsc3.7.7-doc\n",
            "  libluminate-dev scalapack-doc slepc3.7.4-doc spooles-doc pybind11-doc\n",
            "  python-dijitso-doc python3-gmpy2 python3-matplotlib python-mpmath-doc\n",
            "  python-numpy-doc python3-nose python3-numpy-dbg python3-setuptools\n",
            "  python-ply-doc texlive-fonts-extra dvipng python-sympy-doc\n",
            "Recommended packages:\n",
            "  python3-matplotlib javascript-common tcsh | csh | c-shell ksh | mksh | pdksh\n",
            "  | zsh python-petsc4py-docs python-slepc4py-docs python3-pil ipython3\n",
            "The following NEW packages will be installed:\n",
            "  dolfin-bin dolfin-doc fenics fonts-font-awesome fonts-lato fonts-mathjax\n",
            "  libamd2 libbtf1 libcamd2 libccolamd2 libcholmod3 libcolamd2 libcxsparse3\n",
            "  libdolfin-dev libdolfin-dev-common libdolfin2019.2 libeigen3-dev\n",
            "  libfftw3-bin libfftw3-dev libfftw3-long3 libfftw3-mpi-dev libfftw3-mpi3\n",
            "  libfftw3-quad3 libfftw3-single3 libgraphblas1 libhdf5-mpi-dev\n",
            "  libhdf5-openmpi-dev libhypre-2.13.0 libhypre-dev libjs-jquery libjs-mathjax\n",
            "  libjs-modernizr libjs-sphinxdoc libjs-underscore libklu1 libldl2 libmetis5\n",
            "  libmshr-dev libmshr-dev-common libmshr2019.2 libmumps-5.1.2 libmumps-dev\n",
            "  libparpack2 libparpack2-dev libpetsc3.7.7 libpetsc3.7.7-dev libptscotch-6.0\n",
            "  libptscotch-dev librbio2 libscalapack-mpi-dev libscalapack-openmpi-dev\n",
            "  libscalapack-openmpi2.0 libscotch-6.0 libscotch-dev libslepc3.7.4\n",
            "  libslepc3.7.4-dev libspooles-dev libspooles2.2 libspqr2 libsuitesparse-dev\n",
            "  libsuitesparseconfig5 libsuperlu-dist5 libtet1.5 libumfpack5 pybind11-dev\n",
            "  python-ufl-doc python3-dijitso python3-dolfin python3-dolfin-real\n",
            "  python3-ffc python3-fiat python3-mpi4py python3-mpmath python3-mshr\n",
            "  python3-mshr-real python3-numpy python3-petsc4py python3-pkg-resources\n",
            "  python3-pkgconfig python3-ply python3-pybind11 python3-six python3-slepc4py\n",
            "  python3-sympy python3-ufl sphinx-rtd-theme-common\n",
            "0 upgraded, 86 newly installed, 0 to remove and 52 not upgraded.\n",
            "Need to get 70.5 MB of archives.\n",
            "After this operation, 376 MB of additional disk space will be used.\n",
            "Get:1 http://archive.ubuntu.com/ubuntu bionic/main amd64 fonts-lato all 2.0-2 [2,698 kB]\n",
            "Get:2 http://ppa.launchpad.net/fenics-packages/fenics/ubuntu bionic/main amd64 libdolfin-dev-common all 2019.2.0~git20220407.d29e24d-5~ppa1~bionic6 [206 kB]\n",
            "Get:3 http://ppa.launchpad.net/fenics-packages/fenics/ubuntu bionic/main amd64 libdolfin2019.2 amd64 2019.2.0~git20220407.d29e24d-5~ppa1~bionic6 [1,768 kB]\n",
            "Get:4 http://archive.ubuntu.com/ubuntu bionic/main amd64 libsuitesparseconfig5 amd64 1:5.1.2-2 [9,044 B]\n",
            "Get:5 http://archive.ubuntu.com/ubuntu bionic/main amd64 libamd2 amd64 1:5.1.2-2 [19.5 kB]\n",
            "Get:6 http://archive.ubuntu.com/ubuntu bionic/main amd64 libcamd2 amd64 1:5.1.2-2 [20.9 kB]\n",
            "Get:7 http://archive.ubuntu.com/ubuntu bionic/main amd64 libccolamd2 amd64 1:5.1.2-2 [21.7 kB]\n",
            "Get:8 http://archive.ubuntu.com/ubuntu bionic/main amd64 libcolamd2 amd64 1:5.1.2-2 [16.2 kB]\n",
            "Get:9 http://archive.ubuntu.com/ubuntu bionic/main amd64 libmetis5 amd64 5.1.0.dfsg-5 [169 kB]\n",
            "Get:10 http://archive.ubuntu.com/ubuntu bionic/main amd64 libcholmod3 amd64 1:5.1.2-2 [300 kB]\n",
            "Get:11 http://archive.ubuntu.com/ubuntu bionic/main amd64 libfftw3-long3 amd64 3.3.7-1 [308 kB]\n",
            "Get:12 http://archive.ubuntu.com/ubuntu bionic/main amd64 libfftw3-single3 amd64 3.3.7-1 [764 kB]\n",
            "Get:13 http://archive.ubuntu.com/ubuntu bionic/universe amd64 libfftw3-mpi3 amd64 3.3.7-1 [47.5 kB]\n",
            "Get:14 http://archive.ubuntu.com/ubuntu bionic/universe amd64 libscotch-6.0 amd64 6.0.4.dfsg1-8 [403 kB]\n",
            "Get:15 http://archive.ubuntu.com/ubuntu bionic/universe amd64 libptscotch-6.0 amd64 6.0.4.dfsg1-8 [654 kB]\n",
            "Get:16 http://archive.ubuntu.com/ubuntu bionic/universe amd64 libsuperlu-dist5 amd64 5.3.0+dfsg1-1 [213 kB]\n",
            "Get:17 http://archive.ubuntu.com/ubuntu bionic/universe amd64 libhypre-2.13.0 amd64 2.13.0-2 [1,718 kB]\n",
            "Get:18 http://archive.ubuntu.com/ubuntu bionic/main amd64 libbtf1 amd64 1:5.1.2-2 [10.6 kB]\n",
            "Get:19 http://archive.ubuntu.com/ubuntu bionic/main amd64 libklu1 amd64 1:5.1.2-2 [69.3 kB]\n",
            "Get:20 http://archive.ubuntu.com/ubuntu bionic/universe amd64 libscalapack-openmpi2.0 amd64 2.0.2-4 [1,473 kB]\n",
            "Get:21 http://archive.ubuntu.com/ubuntu bionic/universe amd64 libmumps-5.1.2 amd64 5.1.2-4 [1,103 kB]\n",
            "Get:22 http://archive.ubuntu.com/ubuntu bionic/main amd64 libumfpack5 amd64 1:5.1.2-2 [229 kB]\n",
            "Get:23 http://archive.ubuntu.com/ubuntu bionic/universe amd64 libpetsc3.7.7 amd64 3.7.7+dfsg1-2build5 [3,935 kB]\n",
            "Get:24 http://archive.ubuntu.com/ubuntu bionic/universe amd64 libparpack2 amd64 3.5.0+real-2 [84.5 kB]\n",
            "Get:25 http://archive.ubuntu.com/ubuntu bionic/universe amd64 libslepc3.7.4 amd64 3.7.4+dfsg1-2build8 [743 kB]\n",
            "Get:26 http://archive.ubuntu.com/ubuntu bionic/universe amd64 libeigen3-dev all 3.3.4-4 [810 kB]\n",
            "Get:27 http://archive.ubuntu.com/ubuntu bionic/universe amd64 libhdf5-openmpi-dev amd64 1.10.0-patch1+docs-4 [2,392 kB]\n",
            "Get:28 http://ppa.launchpad.net/fenics-packages/fenics/ubuntu bionic/main amd64 python3-fiat all 2019.2.0~git20210419.7d418fa-1~ppa1~bionic2 [69.4 kB]\n",
            "Get:29 http://archive.ubuntu.com/ubuntu bionic/universe amd64 libhdf5-mpi-dev amd64 1.10.0-patch1+docs-4 [3,074 B]\n",
            "Get:30 http://archive.ubuntu.com/ubuntu bionic/main amd64 libcxsparse3 amd64 1:5.1.2-2 [63.9 kB]\n",
            "Get:31 http://archive.ubuntu.com/ubuntu bionic/main amd64 libgraphblas1 amd64 1:5.1.2-2 [384 kB]\n",
            "Get:32 http://archive.ubuntu.com/ubuntu bionic/main amd64 libldl2 amd64 1:5.1.2-2 [10.3 kB]\n",
            "Get:33 http://archive.ubuntu.com/ubuntu bionic/main amd64 librbio2 amd64 1:5.1.2-2 [24.0 kB]\n",
            "Get:34 http://archive.ubuntu.com/ubuntu bionic/main amd64 libspqr2 amd64 1:5.1.2-2 [64.2 kB]\n",
            "Get:35 http://archive.ubuntu.com/ubuntu bionic/main amd64 libsuitesparse-dev amd64 1:5.1.2-2 [1,235 kB]\n",
            "Get:36 http://archive.ubuntu.com/ubuntu bionic/universe amd64 libscotch-dev amd64 6.0.4.dfsg1-8 [1,791 kB]\n",
            "Get:37 http://archive.ubuntu.com/ubuntu bionic/main amd64 python3-numpy amd64 1:1.13.3-2ubuntu1 [1,943 kB]\n",
            "Get:38 http://archive.ubuntu.com/ubuntu bionic/universe amd64 python3-mpmath all 1.0.0-1 [400 kB]\n",
            "Get:39 http://archive.ubuntu.com/ubuntu bionic/universe amd64 python3-sympy all 1.1.1-5 [2,569 kB]\n",
            "Get:40 http://archive.ubuntu.com/ubuntu bionic/main amd64 python3-pkg-resources all 39.0.1-2 [98.8 kB]\n",
            "Get:41 http://archive.ubuntu.com/ubuntu bionic/universe amd64 python3-mpi4py amd64 2.0.0-3 [420 kB]\n",
            "Get:42 http://archive.ubuntu.com/ubuntu bionic/universe amd64 libspooles2.2 amd64 2.2-12build1 [458 kB]\n",
            "Get:43 http://archive.ubuntu.com/ubuntu bionic/universe amd64 libspooles-dev amd64 2.2-12build1 [587 kB]\n",
            "Get:44 http://archive.ubuntu.com/ubuntu bionic/universe amd64 libhypre-dev amd64 2.13.0-2 [134 kB]\n",
            "Get:45 http://archive.ubuntu.com/ubuntu bionic/universe amd64 libptscotch-dev amd64 6.0.4.dfsg1-8 [5,416 kB]\n",
            "Get:46 http://ppa.launchpad.net/fenics-packages/fenics/ubuntu bionic/main amd64 python3-ufl all 2021.1.0-4~ppa1~bionic3 [150 kB]\n",
            "Get:47 http://archive.ubuntu.com/ubuntu bionic/universe amd64 libscalapack-openmpi-dev amd64 2.0.2-4 [6,068 B]\n",
            "Get:48 http://archive.ubuntu.com/ubuntu bionic/universe amd64 libscalapack-mpi-dev amd64 2.0.2-4 [2,108 B]\n",
            "Get:49 http://archive.ubuntu.com/ubuntu bionic/universe amd64 libmumps-dev amd64 5.1.2-4 [984 kB]\n",
            "Get:50 http://archive.ubuntu.com/ubuntu bionic/main amd64 libfftw3-quad3 amd64 3.3.7-1 [552 kB]\n",
            "Get:51 http://archive.ubuntu.com/ubuntu bionic/main amd64 libfftw3-bin amd64 3.3.7-1 [32.7 kB]\n",
            "Get:52 http://archive.ubuntu.com/ubuntu bionic/main amd64 libfftw3-dev amd64 3.3.7-1 [2,108 kB]\n",
            "Get:53 http://archive.ubuntu.com/ubuntu bionic/universe amd64 libfftw3-mpi-dev amd64 3.3.7-1 [47.6 kB]\n",
            "Get:54 http://archive.ubuntu.com/ubuntu bionic/universe amd64 libpetsc3.7.7-dev amd64 3.7.7+dfsg1-2build5 [3,495 kB]\n",
            "Get:55 http://archive.ubuntu.com/ubuntu bionic/universe amd64 libparpack2-dev amd64 3.5.0+real-2 [92.0 kB]\n",
            "Get:56 http://archive.ubuntu.com/ubuntu bionic/universe amd64 libslepc3.7.4-dev amd64 3.7.4+dfsg1-2build8 [1,701 kB]\n",
            "Get:57 http://archive.ubuntu.com/ubuntu bionic/universe amd64 python3-petsc4py amd64 3.7.0-3build2 [719 kB]\n",
            "Get:58 http://archive.ubuntu.com/ubuntu bionic/universe amd64 python3-slepc4py amd64 3.7.0-3build1 [155 kB]\n",
            "Get:59 http://archive.ubuntu.com/ubuntu bionic/main amd64 python3-ply all 3.11-1 [46.6 kB]\n",
            "Get:60 http://archive.ubuntu.com/ubuntu bionic/main amd64 python3-six all 1.11.0-2 [11.4 kB]\n",
            "Get:61 http://archive.ubuntu.com/ubuntu bionic/universe amd64 python3-pkgconfig all 1.3.1-1 [6,328 B]\n",
            "Get:62 http://archive.ubuntu.com/ubuntu bionic/universe amd64 fonts-mathjax all 2.7.3+dfsg-1 [2,208 kB]\n",
            "Get:63 http://archive.ubuntu.com/ubuntu bionic/universe amd64 libjs-mathjax all 2.7.3+dfsg-1 [5,653 kB]\n",
            "Get:64 http://ppa.launchpad.net/fenics-packages/fenics/ubuntu bionic/main amd64 python3-dijitso all 2019.2.0~git20190418.c92dcb0-2~ppa1~bionic3 [24.6 kB]\n",
            "Get:65 http://archive.ubuntu.com/ubuntu bionic/main amd64 libjs-jquery all 3.2.1-1 [152 kB]\n",
            "Get:66 http://archive.ubuntu.com/ubuntu bionic-updates/main amd64 libjs-underscore all 1.8.3~dfsg-1ubuntu0.1 [60.4 kB]\n",
            "Get:67 http://archive.ubuntu.com/ubuntu bionic/main amd64 libjs-sphinxdoc all 1.6.7-1ubuntu1 [85.6 kB]\n",
            "Get:68 http://archive.ubuntu.com/ubuntu bionic/main amd64 fonts-font-awesome all 4.7.0~dfsg-3 [513 kB]\n",
            "Get:69 http://archive.ubuntu.com/ubuntu bionic/main amd64 libjs-modernizr all 2.6.2+ds1-1ubuntu1 [46.7 kB]\n",
            "Get:70 http://archive.ubuntu.com/ubuntu bionic/main amd64 sphinx-rtd-theme-common all 0.2.4-1 [224 kB]\n",
            "Get:71 http://archive.ubuntu.com/ubuntu bionic/universe amd64 libtet1.5 amd64 1.5.0-4 [235 kB]\n",
            "Get:72 http://ppa.launchpad.net/fenics-packages/fenics/ubuntu bionic/main amd64 python3-ffc all 2019.2.0~git20210714.a20cbe7-1~ppa1~bionic2 [226 kB]\n",
            "Get:73 http://ppa.launchpad.net/fenics-packages/fenics/ubuntu bionic/main amd64 libdolfin-dev amd64 2019.2.0~git20220407.d29e24d-5~ppa1~bionic6 [27.5 kB]\n",
            "Get:74 http://ppa.launchpad.net/fenics-packages/fenics/ubuntu bionic/main amd64 python3-dolfin-real amd64 2019.2.0~git20220407.d29e24d-5~ppa1~bionic6 [720 kB]\n",
            "Get:75 http://ppa.launchpad.net/fenics-packages/fenics/ubuntu bionic/main amd64 pybind11-dev all 2.2.3-1fenics1bionic1 [129 kB]\n",
            "Get:76 http://ppa.launchpad.net/fenics-packages/fenics/ubuntu bionic/main amd64 python3-pybind11 all 2.2.3-1fenics1bionic1 [21.5 kB]\n",
            "Get:77 http://ppa.launchpad.net/fenics-packages/fenics/ubuntu bionic/main amd64 python3-dolfin amd64 2019.2.0~git20220407.d29e24d-5~ppa1~bionic6 [41.0 kB]\n",
            "Get:78 http://ppa.launchpad.net/fenics-packages/fenics/ubuntu bionic/main amd64 dolfin-bin all 2019.2.0~git20220407.d29e24d-5~ppa1~bionic6 [27.9 kB]\n",
            "Get:79 http://ppa.launchpad.net/fenics-packages/fenics/ubuntu bionic/main amd64 dolfin-doc all 2019.2.0~git20220407.d29e24d-5~ppa1~bionic6 [12.5 MB]\n",
            "Get:80 http://ppa.launchpad.net/fenics-packages/fenics/ubuntu bionic/main amd64 python-ufl-doc all 2021.1.0-4~ppa1~bionic3 [14.0 kB]\n",
            "Get:81 http://ppa.launchpad.net/fenics-packages/fenics/ubuntu bionic/main amd64 libmshr2019.2 amd64 2019.2.0~git20200924.c27eb18+git1-2~ppa1~bionic4 [1,467 kB]\n",
            "Get:82 http://ppa.launchpad.net/fenics-packages/fenics/ubuntu bionic/main amd64 libmshr-dev-common amd64 2019.2.0~git20200924.c27eb18+git1-2~ppa1~bionic4 [16.2 kB]\n",
            "Get:83 http://ppa.launchpad.net/fenics-packages/fenics/ubuntu bionic/main amd64 libmshr-dev amd64 2019.2.0~git20200924.c27eb18+git1-2~ppa1~bionic4 [52.6 kB]\n",
            "Get:84 http://ppa.launchpad.net/fenics-packages/fenics/ubuntu bionic/main amd64 python3-mshr-real amd64 2019.2.0~git20200924.c27eb18+git1-2~ppa1~bionic4 [88.1 kB]\n",
            "Get:85 http://ppa.launchpad.net/fenics-packages/fenics/ubuntu bionic/main amd64 python3-mshr all 2019.2.0~git20200924.c27eb18+git1-2~ppa1~bionic4 [9,484 B]\n",
            "Get:86 http://ppa.launchpad.net/fenics-packages/fenics/ubuntu bionic/main amd64 fenics amd64 1:2019.2.0.5~ppa1~bionic1 [4,908 B]\n",
            "Fetched 70.5 MB in 14s (5,052 kB/s)\n",
            "Extracting templates from packages: 100%\n",
            "Selecting previously unselected package fonts-lato.\n",
            "(Reading database ... 155203 files and directories currently installed.)\n",
            "Preparing to unpack .../00-fonts-lato_2.0-2_all.deb ...\n",
            "Unpacking fonts-lato (2.0-2) ...\n",
            "Selecting previously unselected package libdolfin-dev-common.\n",
            "Preparing to unpack .../01-libdolfin-dev-common_2019.2.0~git20220407.d29e24d-5~ppa1~bionic6_all.deb ...\n",
            "Unpacking libdolfin-dev-common (2019.2.0~git20220407.d29e24d-5~ppa1~bionic6) ...\n",
            "Selecting previously unselected package libsuitesparseconfig5:amd64.\n",
            "Preparing to unpack .../02-libsuitesparseconfig5_1%3a5.1.2-2_amd64.deb ...\n",
            "Unpacking libsuitesparseconfig5:amd64 (1:5.1.2-2) ...\n",
            "Selecting previously unselected package libamd2:amd64.\n",
            "Preparing to unpack .../03-libamd2_1%3a5.1.2-2_amd64.deb ...\n",
            "Unpacking libamd2:amd64 (1:5.1.2-2) ...\n",
            "Selecting previously unselected package libcamd2:amd64.\n",
            "Preparing to unpack .../04-libcamd2_1%3a5.1.2-2_amd64.deb ...\n",
            "Unpacking libcamd2:amd64 (1:5.1.2-2) ...\n",
            "Selecting previously unselected package libccolamd2:amd64.\n",
            "Preparing to unpack .../05-libccolamd2_1%3a5.1.2-2_amd64.deb ...\n",
            "Unpacking libccolamd2:amd64 (1:5.1.2-2) ...\n",
            "Selecting previously unselected package libcolamd2:amd64.\n",
            "Preparing to unpack .../06-libcolamd2_1%3a5.1.2-2_amd64.deb ...\n",
            "Unpacking libcolamd2:amd64 (1:5.1.2-2) ...\n",
            "Selecting previously unselected package libmetis5:amd64.\n",
            "Preparing to unpack .../07-libmetis5_5.1.0.dfsg-5_amd64.deb ...\n",
            "Unpacking libmetis5:amd64 (5.1.0.dfsg-5) ...\n",
            "Selecting previously unselected package libcholmod3:amd64.\n",
            "Preparing to unpack .../08-libcholmod3_1%3a5.1.2-2_amd64.deb ...\n",
            "Unpacking libcholmod3:amd64 (1:5.1.2-2) ...\n",
            "Selecting previously unselected package libfftw3-long3:amd64.\n",
            "Preparing to unpack .../09-libfftw3-long3_3.3.7-1_amd64.deb ...\n",
            "Unpacking libfftw3-long3:amd64 (3.3.7-1) ...\n",
            "Selecting previously unselected package libfftw3-single3:amd64.\n",
            "Preparing to unpack .../10-libfftw3-single3_3.3.7-1_amd64.deb ...\n",
            "Unpacking libfftw3-single3:amd64 (3.3.7-1) ...\n",
            "Selecting previously unselected package libfftw3-mpi3:amd64.\n",
            "Preparing to unpack .../11-libfftw3-mpi3_3.3.7-1_amd64.deb ...\n",
            "Unpacking libfftw3-mpi3:amd64 (3.3.7-1) ...\n",
            "Selecting previously unselected package libscotch-6.0.\n",
            "Preparing to unpack .../12-libscotch-6.0_6.0.4.dfsg1-8_amd64.deb ...\n",
            "Unpacking libscotch-6.0 (6.0.4.dfsg1-8) ...\n",
            "Selecting previously unselected package libptscotch-6.0.\n",
            "Preparing to unpack .../13-libptscotch-6.0_6.0.4.dfsg1-8_amd64.deb ...\n",
            "Unpacking libptscotch-6.0 (6.0.4.dfsg1-8) ...\n",
            "Selecting previously unselected package libsuperlu-dist5.\n",
            "Preparing to unpack .../14-libsuperlu-dist5_5.3.0+dfsg1-1_amd64.deb ...\n",
            "Unpacking libsuperlu-dist5 (5.3.0+dfsg1-1) ...\n",
            "Selecting previously unselected package libhypre-2.13.0:amd64.\n",
            "Preparing to unpack .../15-libhypre-2.13.0_2.13.0-2_amd64.deb ...\n",
            "Unpacking libhypre-2.13.0:amd64 (2.13.0-2) ...\n",
            "Selecting previously unselected package libbtf1:amd64.\n",
            "Preparing to unpack .../16-libbtf1_1%3a5.1.2-2_amd64.deb ...\n",
            "Unpacking libbtf1:amd64 (1:5.1.2-2) ...\n",
            "Selecting previously unselected package libklu1:amd64.\n",
            "Preparing to unpack .../17-libklu1_1%3a5.1.2-2_amd64.deb ...\n",
            "Unpacking libklu1:amd64 (1:5.1.2-2) ...\n",
            "Selecting previously unselected package libscalapack-openmpi2.0.\n",
            "Preparing to unpack .../18-libscalapack-openmpi2.0_2.0.2-4_amd64.deb ...\n",
            "Unpacking libscalapack-openmpi2.0 (2.0.2-4) ...\n",
            "Selecting previously unselected package libmumps-5.1.2:amd64.\n",
            "Preparing to unpack .../19-libmumps-5.1.2_5.1.2-4_amd64.deb ...\n",
            "Unpacking libmumps-5.1.2:amd64 (5.1.2-4) ...\n",
            "Selecting previously unselected package libumfpack5:amd64.\n",
            "Preparing to unpack .../20-libumfpack5_1%3a5.1.2-2_amd64.deb ...\n",
            "Unpacking libumfpack5:amd64 (1:5.1.2-2) ...\n",
            "Selecting previously unselected package libpetsc3.7.7:amd64.\n",
            "Preparing to unpack .../21-libpetsc3.7.7_3.7.7+dfsg1-2build5_amd64.deb ...\n",
            "Unpacking libpetsc3.7.7:amd64 (3.7.7+dfsg1-2build5) ...\n",
            "Selecting previously unselected package libparpack2:amd64.\n",
            "Preparing to unpack .../22-libparpack2_3.5.0+real-2_amd64.deb ...\n",
            "Unpacking libparpack2:amd64 (3.5.0+real-2) ...\n",
            "Selecting previously unselected package libslepc3.7.4.\n",
            "Preparing to unpack .../23-libslepc3.7.4_3.7.4+dfsg1-2build8_amd64.deb ...\n",
            "Unpacking libslepc3.7.4 (3.7.4+dfsg1-2build8) ...\n",
            "Selecting previously unselected package libdolfin2019.2:amd64.\n",
            "Preparing to unpack .../24-libdolfin2019.2_2019.2.0~git20220407.d29e24d-5~ppa1~bionic6_amd64.deb ...\n",
            "Unpacking libdolfin2019.2:amd64 (2019.2.0~git20220407.d29e24d-5~ppa1~bionic6) ...\n",
            "Selecting previously unselected package libeigen3-dev.\n",
            "Preparing to unpack .../25-libeigen3-dev_3.3.4-4_all.deb ...\n",
            "Unpacking libeigen3-dev (3.3.4-4) ...\n",
            "Selecting previously unselected package libhdf5-openmpi-dev.\n",
            "Preparing to unpack .../26-libhdf5-openmpi-dev_1.10.0-patch1+docs-4_amd64.deb ...\n",
            "Unpacking libhdf5-openmpi-dev (1.10.0-patch1+docs-4) ...\n",
            "Selecting previously unselected package libhdf5-mpi-dev.\n",
            "Preparing to unpack .../27-libhdf5-mpi-dev_1.10.0-patch1+docs-4_amd64.deb ...\n",
            "Unpacking libhdf5-mpi-dev (1.10.0-patch1+docs-4) ...\n",
            "Selecting previously unselected package libcxsparse3:amd64.\n",
            "Preparing to unpack .../28-libcxsparse3_1%3a5.1.2-2_amd64.deb ...\n",
            "Unpacking libcxsparse3:amd64 (1:5.1.2-2) ...\n",
            "Selecting previously unselected package libgraphblas1:amd64.\n",
            "Preparing to unpack .../29-libgraphblas1_1%3a5.1.2-2_amd64.deb ...\n",
            "Unpacking libgraphblas1:amd64 (1:5.1.2-2) ...\n",
            "Selecting previously unselected package libldl2:amd64.\n",
            "Preparing to unpack .../30-libldl2_1%3a5.1.2-2_amd64.deb ...\n",
            "Unpacking libldl2:amd64 (1:5.1.2-2) ...\n",
            "Selecting previously unselected package librbio2:amd64.\n",
            "Preparing to unpack .../31-librbio2_1%3a5.1.2-2_amd64.deb ...\n",
            "Unpacking librbio2:amd64 (1:5.1.2-2) ...\n",
            "Selecting previously unselected package libspqr2:amd64.\n",
            "Preparing to unpack .../32-libspqr2_1%3a5.1.2-2_amd64.deb ...\n",
            "Unpacking libspqr2:amd64 (1:5.1.2-2) ...\n",
            "Selecting previously unselected package libsuitesparse-dev:amd64.\n",
            "Preparing to unpack .../33-libsuitesparse-dev_1%3a5.1.2-2_amd64.deb ...\n",
            "Unpacking libsuitesparse-dev:amd64 (1:5.1.2-2) ...\n",
            "Selecting previously unselected package libscotch-dev.\n",
            "Preparing to unpack .../34-libscotch-dev_6.0.4.dfsg1-8_amd64.deb ...\n",
            "Unpacking libscotch-dev (6.0.4.dfsg1-8) ...\n",
            "Selecting previously unselected package python3-numpy.\n",
            "Preparing to unpack .../35-python3-numpy_1%3a1.13.3-2ubuntu1_amd64.deb ...\n",
            "Unpacking python3-numpy (1:1.13.3-2ubuntu1) ...\n",
            "Selecting previously unselected package python3-mpmath.\n",
            "Preparing to unpack .../36-python3-mpmath_1.0.0-1_all.deb ...\n",
            "Unpacking python3-mpmath (1.0.0-1) ...\n",
            "Selecting previously unselected package python3-sympy.\n",
            "Preparing to unpack .../37-python3-sympy_1.1.1-5_all.deb ...\n",
            "Unpacking python3-sympy (1.1.1-5) ...\n",
            "Selecting previously unselected package python3-pkg-resources.\n",
            "Preparing to unpack .../38-python3-pkg-resources_39.0.1-2_all.deb ...\n",
            "Unpacking python3-pkg-resources (39.0.1-2) ...\n",
            "Selecting previously unselected package python3-fiat.\n",
            "Preparing to unpack .../39-python3-fiat_2019.2.0~git20210419.7d418fa-1~ppa1~bionic2_all.deb ...\n",
            "Unpacking python3-fiat (2019.2.0~git20210419.7d418fa-1~ppa1~bionic2) ...\n",
            "Selecting previously unselected package python3-ufl.\n",
            "Preparing to unpack .../40-python3-ufl_2021.1.0-4~ppa1~bionic3_all.deb ...\n",
            "Unpacking python3-ufl (2021.1.0-4~ppa1~bionic3) ...\n",
            "Selecting previously unselected package python3-mpi4py.\n",
            "Preparing to unpack .../41-python3-mpi4py_2.0.0-3_amd64.deb ...\n",
            "Unpacking python3-mpi4py (2.0.0-3) ...\n",
            "Selecting previously unselected package python3-dijitso.\n",
            "Preparing to unpack .../42-python3-dijitso_2019.2.0~git20190418.c92dcb0-2~ppa1~bionic3_all.deb ...\n",
            "Unpacking python3-dijitso (2019.2.0~git20190418.c92dcb0-2~ppa1~bionic3) ...\n",
            "Selecting previously unselected package python3-ffc.\n",
            "Preparing to unpack .../43-python3-ffc_2019.2.0~git20210714.a20cbe7-1~ppa1~bionic2_all.deb ...\n",
            "Unpacking python3-ffc (2019.2.0~git20210714.a20cbe7-1~ppa1~bionic2) ...\n",
            "Selecting previously unselected package libspooles2.2:amd64.\n",
            "Preparing to unpack .../44-libspooles2.2_2.2-12build1_amd64.deb ...\n",
            "Unpacking libspooles2.2:amd64 (2.2-12build1) ...\n",
            "Selecting previously unselected package libspooles-dev:amd64.\n",
            "Preparing to unpack .../45-libspooles-dev_2.2-12build1_amd64.deb ...\n",
            "Unpacking libspooles-dev:amd64 (2.2-12build1) ...\n",
            "Selecting previously unselected package libhypre-dev:amd64.\n",
            "Preparing to unpack .../46-libhypre-dev_2.13.0-2_amd64.deb ...\n",
            "Unpacking libhypre-dev:amd64 (2.13.0-2) ...\n",
            "Selecting previously unselected package libptscotch-dev.\n",
            "Preparing to unpack .../47-libptscotch-dev_6.0.4.dfsg1-8_amd64.deb ...\n",
            "Unpacking libptscotch-dev (6.0.4.dfsg1-8) ...\n",
            "Selecting previously unselected package libscalapack-openmpi-dev.\n",
            "Preparing to unpack .../48-libscalapack-openmpi-dev_2.0.2-4_amd64.deb ...\n",
            "Unpacking libscalapack-openmpi-dev (2.0.2-4) ...\n",
            "Selecting previously unselected package libscalapack-mpi-dev.\n",
            "Preparing to unpack .../49-libscalapack-mpi-dev_2.0.2-4_amd64.deb ...\n",
            "Unpacking libscalapack-mpi-dev (2.0.2-4) ...\n",
            "Selecting previously unselected package libmumps-dev:amd64.\n",
            "Preparing to unpack .../50-libmumps-dev_5.1.2-4_amd64.deb ...\n",
            "Unpacking libmumps-dev:amd64 (5.1.2-4) ...\n",
            "Selecting previously unselected package libfftw3-quad3:amd64.\n",
            "Preparing to unpack .../51-libfftw3-quad3_3.3.7-1_amd64.deb ...\n",
            "Unpacking libfftw3-quad3:amd64 (3.3.7-1) ...\n",
            "Selecting previously unselected package libfftw3-bin.\n",
            "Preparing to unpack .../52-libfftw3-bin_3.3.7-1_amd64.deb ...\n",
            "Unpacking libfftw3-bin (3.3.7-1) ...\n",
            "Selecting previously unselected package libfftw3-dev:amd64.\n",
            "Preparing to unpack .../53-libfftw3-dev_3.3.7-1_amd64.deb ...\n",
            "Unpacking libfftw3-dev:amd64 (3.3.7-1) ...\n",
            "Selecting previously unselected package libfftw3-mpi-dev:amd64.\n",
            "Preparing to unpack .../54-libfftw3-mpi-dev_3.3.7-1_amd64.deb ...\n",
            "Unpacking libfftw3-mpi-dev:amd64 (3.3.7-1) ...\n",
            "Selecting previously unselected package libpetsc3.7.7-dev:amd64.\n",
            "Preparing to unpack .../55-libpetsc3.7.7-dev_3.7.7+dfsg1-2build5_amd64.deb ...\n",
            "Unpacking libpetsc3.7.7-dev:amd64 (3.7.7+dfsg1-2build5) ...\n",
            "Selecting previously unselected package libparpack2-dev:amd64.\n",
            "Preparing to unpack .../56-libparpack2-dev_3.5.0+real-2_amd64.deb ...\n",
            "Unpacking libparpack2-dev:amd64 (3.5.0+real-2) ...\n",
            "Selecting previously unselected package libslepc3.7.4-dev.\n",
            "Preparing to unpack .../57-libslepc3.7.4-dev_3.7.4+dfsg1-2build8_amd64.deb ...\n",
            "Unpacking libslepc3.7.4-dev (3.7.4+dfsg1-2build8) ...\n",
            "Selecting previously unselected package libdolfin-dev:amd64.\n",
            "Preparing to unpack .../58-libdolfin-dev_2019.2.0~git20220407.d29e24d-5~ppa1~bionic6_amd64.deb ...\n",
            "Unpacking libdolfin-dev:amd64 (2019.2.0~git20220407.d29e24d-5~ppa1~bionic6) ...\n",
            "Selecting previously unselected package python3-petsc4py.\n",
            "Preparing to unpack .../59-python3-petsc4py_3.7.0-3build2_amd64.deb ...\n",
            "Unpacking python3-petsc4py (3.7.0-3build2) ...\n",
            "Selecting previously unselected package python3-slepc4py.\n",
            "Preparing to unpack .../60-python3-slepc4py_3.7.0-3build1_amd64.deb ...\n",
            "Unpacking python3-slepc4py (3.7.0-3build1) ...\n",
            "Selecting previously unselected package python3-dolfin-real.\n",
            "Preparing to unpack .../61-python3-dolfin-real_2019.2.0~git20220407.d29e24d-5~ppa1~bionic6_amd64.deb ...\n",
            "Unpacking python3-dolfin-real (2019.2.0~git20220407.d29e24d-5~ppa1~bionic6) ...\n",
            "Selecting previously unselected package python3-ply.\n",
            "Preparing to unpack .../62-python3-ply_3.11-1_all.deb ...\n",
            "Unpacking python3-ply (3.11-1) ...\n",
            "Selecting previously unselected package pybind11-dev.\n",
            "Preparing to unpack .../63-pybind11-dev_2.2.3-1fenics1bionic1_all.deb ...\n",
            "Unpacking pybind11-dev (2.2.3-1fenics1bionic1) ...\n",
            "Selecting previously unselected package python3-pybind11.\n",
            "Preparing to unpack .../64-python3-pybind11_2.2.3-1fenics1bionic1_all.deb ...\n",
            "Unpacking python3-pybind11 (2.2.3-1fenics1bionic1) ...\n",
            "Selecting previously unselected package python3-six.\n",
            "Preparing to unpack .../65-python3-six_1.11.0-2_all.deb ...\n",
            "Unpacking python3-six (1.11.0-2) ...\n",
            "Selecting previously unselected package python3-pkgconfig.\n",
            "Preparing to unpack .../66-python3-pkgconfig_1.3.1-1_all.deb ...\n",
            "Unpacking python3-pkgconfig (1.3.1-1) ...\n",
            "Selecting previously unselected package python3-dolfin.\n",
            "Preparing to unpack .../67-python3-dolfin_2019.2.0~git20220407.d29e24d-5~ppa1~bionic6_amd64.deb ...\n",
            "Unpacking python3-dolfin (2019.2.0~git20220407.d29e24d-5~ppa1~bionic6) ...\n",
            "Selecting previously unselected package dolfin-bin.\n",
            "Preparing to unpack .../68-dolfin-bin_2019.2.0~git20220407.d29e24d-5~ppa1~bionic6_all.deb ...\n",
            "Unpacking dolfin-bin (2019.2.0~git20220407.d29e24d-5~ppa1~bionic6) ...\n",
            "Selecting previously unselected package fonts-mathjax.\n",
            "Preparing to unpack .../69-fonts-mathjax_2.7.3+dfsg-1_all.deb ...\n",
            "Unpacking fonts-mathjax (2.7.3+dfsg-1) ...\n",
            "Selecting previously unselected package libjs-mathjax.\n",
            "Preparing to unpack .../70-libjs-mathjax_2.7.3+dfsg-1_all.deb ...\n",
            "Unpacking libjs-mathjax (2.7.3+dfsg-1) ...\n",
            "Selecting previously unselected package libjs-jquery.\n",
            "Preparing to unpack .../71-libjs-jquery_3.2.1-1_all.deb ...\n",
            "Unpacking libjs-jquery (3.2.1-1) ...\n",
            "Selecting previously unselected package libjs-underscore.\n",
            "Preparing to unpack .../72-libjs-underscore_1.8.3~dfsg-1ubuntu0.1_all.deb ...\n",
            "Unpacking libjs-underscore (1.8.3~dfsg-1ubuntu0.1) ...\n",
            "Selecting previously unselected package libjs-sphinxdoc.\n",
            "Preparing to unpack .../73-libjs-sphinxdoc_1.6.7-1ubuntu1_all.deb ...\n",
            "Unpacking libjs-sphinxdoc (1.6.7-1ubuntu1) ...\n",
            "Selecting previously unselected package fonts-font-awesome.\n",
            "Preparing to unpack .../74-fonts-font-awesome_4.7.0~dfsg-3_all.deb ...\n",
            "Unpacking fonts-font-awesome (4.7.0~dfsg-3) ...\n",
            "Selecting previously unselected package libjs-modernizr.\n",
            "Preparing to unpack .../75-libjs-modernizr_2.6.2+ds1-1ubuntu1_all.deb ...\n",
            "Unpacking libjs-modernizr (2.6.2+ds1-1ubuntu1) ...\n",
            "Selecting previously unselected package sphinx-rtd-theme-common.\n",
            "Preparing to unpack .../76-sphinx-rtd-theme-common_0.2.4-1_all.deb ...\n",
            "Unpacking sphinx-rtd-theme-common (0.2.4-1) ...\n",
            "Selecting previously unselected package dolfin-doc.\n",
            "Preparing to unpack .../77-dolfin-doc_2019.2.0~git20220407.d29e24d-5~ppa1~bionic6_all.deb ...\n",
            "Unpacking dolfin-doc (2019.2.0~git20220407.d29e24d-5~ppa1~bionic6) ...\n",
            "Selecting previously unselected package python-ufl-doc.\n",
            "Preparing to unpack .../78-python-ufl-doc_2021.1.0-4~ppa1~bionic3_all.deb ...\n",
            "Unpacking python-ufl-doc (2021.1.0-4~ppa1~bionic3) ...\n",
            "Selecting previously unselected package libtet1.5:amd64.\n",
            "Preparing to unpack .../79-libtet1.5_1.5.0-4_amd64.deb ...\n",
            "Unpacking libtet1.5:amd64 (1.5.0-4) ...\n",
            "Selecting previously unselected package libmshr2019.2:amd64.\n",
            "Preparing to unpack .../80-libmshr2019.2_2019.2.0~git20200924.c27eb18+git1-2~ppa1~bionic4_amd64.deb ...\n",
            "Unpacking libmshr2019.2:amd64 (2019.2.0~git20200924.c27eb18+git1-2~ppa1~bionic4) ...\n",
            "Selecting previously unselected package libmshr-dev-common:amd64.\n",
            "Preparing to unpack .../81-libmshr-dev-common_2019.2.0~git20200924.c27eb18+git1-2~ppa1~bionic4_amd64.deb ...\n",
            "Unpacking libmshr-dev-common:amd64 (2019.2.0~git20200924.c27eb18+git1-2~ppa1~bionic4) ...\n",
            "Selecting previously unselected package libmshr-dev.\n",
            "Preparing to unpack .../82-libmshr-dev_2019.2.0~git20200924.c27eb18+git1-2~ppa1~bionic4_amd64.deb ...\n",
            "Unpacking libmshr-dev (2019.2.0~git20200924.c27eb18+git1-2~ppa1~bionic4) ...\n",
            "Selecting previously unselected package python3-mshr-real.\n",
            "Preparing to unpack .../83-python3-mshr-real_2019.2.0~git20200924.c27eb18+git1-2~ppa1~bionic4_amd64.deb ...\n",
            "Unpacking python3-mshr-real (2019.2.0~git20200924.c27eb18+git1-2~ppa1~bionic4) ...\n",
            "Selecting previously unselected package python3-mshr.\n",
            "Preparing to unpack .../84-python3-mshr_2019.2.0~git20200924.c27eb18+git1-2~ppa1~bionic4_all.deb ...\n",
            "Unpacking python3-mshr (2019.2.0~git20200924.c27eb18+git1-2~ppa1~bionic4) ...\n",
            "Selecting previously unselected package fenics:amd64.\n",
            "Preparing to unpack .../85-fenics_1%3a2019.2.0.5~ppa1~bionic1_amd64.deb ...\n",
            "Unpacking fenics:amd64 (1:2019.2.0.5~ppa1~bionic1) ...\n",
            "Setting up python3-pkgconfig (1.3.1-1) ...\n",
            "Error processing line 3 of /usr/lib/python3/dist-packages/mshr.pth:\n",
            "\n",
            "  Traceback (most recent call last):\n",
            "    File \"/usr/lib/python3.7/site.py\", line 174, in addpackage\n",
            "      exec(line)\n",
            "    File \"<string>\", line 1, in <module>\n",
            "  FileNotFoundError: [Errno 2] No such file or directory: '/usr/lib/petsc/include/petscconf.h'\n",
            "\n",
            "Remainder of file ignored\n",
            "Error processing line 3 of /usr/lib/python3/dist-packages/mshr.pth:\n",
            "\n",
            "  Traceback (most recent call last):\n",
            "    File \"/usr/lib/python3.6/site.py\", line 174, in addpackage\n",
            "      exec(line)\n",
            "    File \"<string>\", line 1, in <module>\n",
            "  FileNotFoundError: [Errno 2] No such file or directory: '/usr/lib/petsc/include/petscconf.h'\n",
            "\n",
            "Remainder of file ignored\n",
            "Setting up libbtf1:amd64 (1:5.1.2-2) ...\n",
            "Setting up libldl2:amd64 (1:5.1.2-2) ...\n",
            "Setting up libjs-jquery (3.2.1-1) ...\n",
            "Setting up libscotch-6.0 (6.0.4.dfsg1-8) ...\n",
            "Setting up libcxsparse3:amd64 (1:5.1.2-2) ...\n",
            "Setting up fonts-mathjax (2.7.3+dfsg-1) ...\n",
            "Setting up python-ufl-doc (2021.1.0-4~ppa1~bionic3) ...\n",
            "Setting up libjs-underscore (1.8.3~dfsg-1ubuntu0.1) ...\n",
            "Setting up libdolfin-dev-common (2019.2.0~git20220407.d29e24d-5~ppa1~bionic6) ...\n",
            "Setting up libjs-mathjax (2.7.3+dfsg-1) ...\n",
            "Setting up libtet1.5:amd64 (1.5.0-4) ...\n",
            "Setting up libscalapack-openmpi2.0 (2.0.2-4) ...\n",
            "Setting up libeigen3-dev (3.3.4-4) ...\n",
            "Setting up python3-numpy (1:1.13.3-2ubuntu1) ...\n",
            "Error processing line 3 of /usr/lib/python3/dist-packages/mshr.pth:\n",
            "\n",
            "  Traceback (most recent call last):\n",
            "    File \"/usr/lib/python3.7/site.py\", line 174, in addpackage\n",
            "      exec(line)\n",
            "    File \"<string>\", line 1, in <module>\n",
            "  FileNotFoundError: [Errno 2] No such file or directory: '/usr/lib/petsc/include/petscconf.h'\n",
            "\n",
            "Remainder of file ignored\n",
            "Error processing line 3 of /usr/lib/python3/dist-packages/mshr.pth:\n",
            "\n",
            "  Traceback (most recent call last):\n",
            "    File \"/usr/lib/python3.6/site.py\", line 174, in addpackage\n",
            "      exec(line)\n",
            "    File \"<string>\", line 1, in <module>\n",
            "  FileNotFoundError: [Errno 2] No such file or directory: '/usr/lib/petsc/include/petscconf.h'\n",
            "\n",
            "Remainder of file ignored\n",
            "Setting up libgraphblas1:amd64 (1:5.1.2-2) ...\n",
            "Setting up python3-six (1.11.0-2) ...\n",
            "Error processing line 3 of /usr/lib/python3/dist-packages/mshr.pth:\n",
            "\n",
            "  Traceback (most recent call last):\n",
            "    File \"/usr/lib/python3.7/site.py\", line 174, in addpackage\n",
            "      exec(line)\n",
            "    File \"<string>\", line 1, in <module>\n",
            "  FileNotFoundError: [Errno 2] No such file or directory: '/usr/lib/petsc/include/petscconf.h'\n",
            "\n",
            "Remainder of file ignored\n",
            "Error processing line 3 of /usr/lib/python3/dist-packages/mshr.pth:\n",
            "\n",
            "  Traceback (most recent call last):\n",
            "    File \"/usr/lib/python3.6/site.py\", line 174, in addpackage\n",
            "      exec(line)\n",
            "    File \"<string>\", line 1, in <module>\n",
            "  FileNotFoundError: [Errno 2] No such file or directory: '/usr/lib/petsc/include/petscconf.h'\n",
            "\n",
            "Remainder of file ignored\n",
            "Setting up libptscotch-6.0 (6.0.4.dfsg1-8) ...\n",
            "Setting up libparpack2:amd64 (3.5.0+real-2) ...\n",
            "Setting up libjs-sphinxdoc (1.6.7-1ubuntu1) ...\n",
            "Setting up libspooles2.2:amd64 (2.2-12build1) ...\n",
            "Setting up python3-pkg-resources (39.0.1-2) ...\n",
            "Error processing line 3 of /usr/lib/python3/dist-packages/mshr.pth:\n",
            "\n",
            "  Traceback (most recent call last):\n",
            "    File \"/usr/lib/python3.7/site.py\", line 174, in addpackage\n",
            "      exec(line)\n",
            "    File \"<string>\", line 1, in <module>\n",
            "  FileNotFoundError: [Errno 2] No such file or directory: '/usr/lib/petsc/include/petscconf.h'\n",
            "\n",
            "Remainder of file ignored\n",
            "Error processing line 3 of /usr/lib/python3/dist-packages/mshr.pth:\n",
            "\n",
            "  Traceback (most recent call last):\n",
            "    File \"/usr/lib/python3.6/site.py\", line 174, in addpackage\n",
            "      exec(line)\n",
            "    File \"<string>\", line 1, in <module>\n",
            "  FileNotFoundError: [Errno 2] No such file or directory: '/usr/lib/petsc/include/petscconf.h'\n",
            "\n",
            "Remainder of file ignored\n",
            "Setting up python3-mpmath (1.0.0-1) ...\n",
            "Error processing line 3 of /usr/lib/python3/dist-packages/mshr.pth:\n",
            "\n",
            "  Traceback (most recent call last):\n",
            "    File \"/usr/lib/python3.7/site.py\", line 174, in addpackage\n",
            "      exec(line)\n",
            "    File \"<string>\", line 1, in <module>\n",
            "  FileNotFoundError: [Errno 2] No such file or directory: '/usr/lib/petsc/include/petscconf.h'\n",
            "\n",
            "Remainder of file ignored\n",
            "Error processing line 3 of /usr/lib/python3/dist-packages/mshr.pth:\n",
            "\n",
            "  Traceback (most recent call last):\n",
            "    File \"/usr/lib/python3.6/site.py\", line 174, in addpackage\n",
            "      exec(line)\n",
            "    File \"<string>\", line 1, in <module>\n",
            "  FileNotFoundError: [Errno 2] No such file or directory: '/usr/lib/petsc/include/petscconf.h'\n",
            "\n",
            "Remainder of file ignored\n",
            "Setting up python3-ufl (2021.1.0-4~ppa1~bionic3) ...\n",
            "Error processing line 3 of /usr/lib/python3/dist-packages/mshr.pth:\n",
            "\n",
            "  Traceback (most recent call last):\n",
            "    File \"/usr/lib/python3.7/site.py\", line 174, in addpackage\n",
            "      exec(line)\n",
            "    File \"<string>\", line 1, in <module>\n",
            "  FileNotFoundError: [Errno 2] No such file or directory: '/usr/lib/petsc/include/petscconf.h'\n",
            "\n",
            "Remainder of file ignored\n",
            "Error processing line 3 of /usr/lib/python3/dist-packages/mshr.pth:\n",
            "\n",
            "  Traceback (most recent call last):\n",
            "    File \"/usr/lib/python3.6/site.py\", line 174, in addpackage\n",
            "      exec(line)\n",
            "    File \"<string>\", line 1, in <module>\n",
            "  FileNotFoundError: [Errno 2] No such file or directory: '/usr/lib/petsc/include/petscconf.h'\n",
            "\n",
            "Remainder of file ignored\n",
            "Setting up fonts-font-awesome (4.7.0~dfsg-3) ...\n",
            "Setting up libscalapack-openmpi-dev (2.0.2-4) ...\n",
            "Setting up fonts-lato (2.0-2) ...\n",
            "Setting up libhdf5-openmpi-dev (1.10.0-patch1+docs-4) ...\n",
            "update-alternatives: using /usr/bin/h5pcc.openmpi to provide /usr/bin/h5pcc (h5pcc) in auto mode\n",
            "Setting up libfftw3-quad3:amd64 (3.3.7-1) ...\n",
            "Setting up libscotch-dev (6.0.4.dfsg1-8) ...\n",
            "Setting up libsuperlu-dist5 (5.3.0+dfsg1-1) ...\n",
            "Setting up libsuitesparseconfig5:amd64 (1:5.1.2-2) ...\n",
            "Setting up libmetis5:amd64 (5.1.0.dfsg-5) ...\n",
            "Setting up pybind11-dev (2.2.3-1fenics1bionic1) ...\n",
            "Setting up libcolamd2:amd64 (1:5.1.2-2) ...\n",
            "Setting up libccolamd2:amd64 (1:5.1.2-2) ...\n",
            "Setting up libfftw3-single3:amd64 (3.3.7-1) ...\n",
            "Setting up python3-mpi4py (2.0.0-3) ...\n",
            "Error processing line 3 of /usr/lib/python3/dist-packages/mshr.pth:\n",
            "\n",
            "  Traceback (most recent call last):\n",
            "    File \"/usr/lib/python3.7/site.py\", line 174, in addpackage\n",
            "      exec(line)\n",
            "    File \"<string>\", line 1, in <module>\n",
            "  FileNotFoundError: [Errno 2] No such file or directory: '/usr/lib/petsc/include/petscconf.h'\n",
            "\n",
            "Remainder of file ignored\n",
            "Error processing line 3 of /usr/lib/python3/dist-packages/mshr.pth:\n",
            "\n",
            "  Traceback (most recent call last):\n",
            "    File \"/usr/lib/python3.6/site.py\", line 174, in addpackage\n",
            "      exec(line)\n",
            "    File \"<string>\", line 1, in <module>\n",
            "  FileNotFoundError: [Errno 2] No such file or directory: '/usr/lib/petsc/include/petscconf.h'\n",
            "\n",
            "Remainder of file ignored\n",
            "Setting up python3-ply (3.11-1) ...\n",
            "Error processing line 3 of /usr/lib/python3/dist-packages/mshr.pth:\n",
            "\n",
            "  Traceback (most recent call last):\n",
            "    File \"/usr/lib/python3.7/site.py\", line 174, in addpackage\n",
            "      exec(line)\n",
            "    File \"<string>\", line 1, in <module>\n",
            "  FileNotFoundError: [Errno 2] No such file or directory: '/usr/lib/petsc/include/petscconf.h'\n",
            "\n",
            "Remainder of file ignored\n",
            "Error processing line 3 of /usr/lib/python3/dist-packages/mshr.pth:\n",
            "\n",
            "  Traceback (most recent call last):\n",
            "    File \"/usr/lib/python3.6/site.py\", line 174, in addpackage\n",
            "      exec(line)\n",
            "    File \"<string>\", line 1, in <module>\n",
            "  FileNotFoundError: [Errno 2] No such file or directory: '/usr/lib/petsc/include/petscconf.h'\n",
            "\n",
            "Remainder of file ignored\n",
            "Setting up python3-sympy (1.1.1-5) ...\n",
            "Error processing line 3 of /usr/lib/python3/dist-packages/mshr.pth:\n",
            "\n",
            "  Traceback (most recent call last):\n",
            "    File \"/usr/lib/python3.7/site.py\", line 174, in addpackage\n",
            "      exec(line)\n",
            "    File \"<string>\", line 1, in <module>\n",
            "  FileNotFoundError: [Errno 2] No such file or directory: '/usr/lib/petsc/include/petscconf.h'\n",
            "\n",
            "Remainder of file ignored\n",
            "Error processing line 3 of /usr/lib/python3/dist-packages/mshr.pth:\n",
            "\n",
            "  Traceback (most recent call last):\n",
            "    File \"/usr/lib/python3.6/site.py\", line 174, in addpackage\n",
            "      exec(line)\n",
            "    File \"<string>\", line 1, in <module>\n",
            "  FileNotFoundError: [Errno 2] No such file or directory: '/usr/lib/petsc/include/petscconf.h'\n",
            "\n",
            "Remainder of file ignored\n",
            "Setting up libspooles-dev:amd64 (2.2-12build1) ...\n",
            "Setting up libfftw3-long3:amd64 (3.3.7-1) ...\n",
            "Setting up libjs-modernizr (2.6.2+ds1-1ubuntu1) ...\n",
            "Setting up python3-pybind11 (2.2.3-1fenics1bionic1) ...\n",
            "Error processing line 3 of /usr/lib/python3/dist-packages/mshr.pth:\n",
            "\n",
            "  Traceback (most recent call last):\n",
            "    File \"/usr/lib/python3.7/site.py\", line 174, in addpackage\n",
            "      exec(line)\n",
            "    File \"<string>\", line 1, in <module>\n",
            "  FileNotFoundError: [Errno 2] No such file or directory: '/usr/lib/petsc/include/petscconf.h'\n",
            "\n",
            "Remainder of file ignored\n",
            "Error processing line 3 of /usr/lib/python3/dist-packages/mshr.pth:\n",
            "\n",
            "  Traceback (most recent call last):\n",
            "    File \"/usr/lib/python3.6/site.py\", line 174, in addpackage\n",
            "      exec(line)\n",
            "    File \"<string>\", line 1, in <module>\n",
            "  FileNotFoundError: [Errno 2] No such file or directory: '/usr/lib/petsc/include/petscconf.h'\n",
            "\n",
            "Remainder of file ignored\n",
            "Setting up python3-fiat (2019.2.0~git20210419.7d418fa-1~ppa1~bionic2) ...\n",
            "Error processing line 3 of /usr/lib/python3/dist-packages/mshr.pth:\n",
            "\n",
            "  Traceback (most recent call last):\n",
            "    File \"/usr/lib/python3.7/site.py\", line 174, in addpackage\n",
            "      exec(line)\n",
            "    File \"<string>\", line 1, in <module>\n",
            "  FileNotFoundError: [Errno 2] No such file or directory: '/usr/lib/petsc/include/petscconf.h'\n",
            "\n",
            "Remainder of file ignored\n",
            "Error processing line 3 of /usr/lib/python3/dist-packages/mshr.pth:\n",
            "\n",
            "  Traceback (most recent call last):\n",
            "    File \"/usr/lib/python3.6/site.py\", line 174, in addpackage\n",
            "      exec(line)\n",
            "    File \"<string>\", line 1, in <module>\n",
            "  FileNotFoundError: [Errno 2] No such file or directory: '/usr/lib/petsc/include/petscconf.h'\n",
            "\n",
            "Remainder of file ignored\n",
            "Setting up libparpack2-dev:amd64 (3.5.0+real-2) ...\n",
            "Setting up libfftw3-bin (3.3.7-1) ...\n",
            "Setting up libmumps-5.1.2:amd64 (5.1.2-4) ...\n",
            "Setting up libptscotch-dev (6.0.4.dfsg1-8) ...\n",
            "Setting up libscalapack-mpi-dev (2.0.2-4) ...\n",
            "Setting up libhypre-2.13.0:amd64 (2.13.0-2) ...\n",
            "Setting up librbio2:amd64 (1:5.1.2-2) ...\n",
            "Setting up libcamd2:amd64 (1:5.1.2-2) ...\n",
            "Setting up libfftw3-mpi3:amd64 (3.3.7-1) ...\n",
            "Setting up libmumps-dev:amd64 (5.1.2-4) ...\n",
            "Setting up python3-dijitso (2019.2.0~git20190418.c92dcb0-2~ppa1~bionic3) ...\n",
            "Error processing line 3 of /usr/lib/python3/dist-packages/mshr.pth:\n",
            "\n",
            "  Traceback (most recent call last):\n",
            "    File \"/usr/lib/python3.7/site.py\", line 174, in addpackage\n",
            "      exec(line)\n",
            "    File \"<string>\", line 1, in <module>\n",
            "  FileNotFoundError: [Errno 2] No such file or directory: '/usr/lib/petsc/include/petscconf.h'\n",
            "\n",
            "Remainder of file ignored\n",
            "Error processing line 3 of /usr/lib/python3/dist-packages/mshr.pth:\n",
            "\n",
            "  Traceback (most recent call last):\n",
            "    File \"/usr/lib/python3.6/site.py\", line 174, in addpackage\n",
            "      exec(line)\n",
            "    File \"<string>\", line 1, in <module>\n",
            "  FileNotFoundError: [Errno 2] No such file or directory: '/usr/lib/petsc/include/petscconf.h'\n",
            "\n",
            "Remainder of file ignored\n",
            "Setting up libhdf5-mpi-dev (1.10.0-patch1+docs-4) ...\n",
            "Setting up libamd2:amd64 (1:5.1.2-2) ...\n",
            "Setting up sphinx-rtd-theme-common (0.2.4-1) ...\n",
            "Setting up libfftw3-dev:amd64 (3.3.7-1) ...\n",
            "Setting up python3-ffc (2019.2.0~git20210714.a20cbe7-1~ppa1~bionic2) ...\n",
            "Error processing line 3 of /usr/lib/python3/dist-packages/mshr.pth:\n",
            "\n",
            "  Traceback (most recent call last):\n",
            "    File \"/usr/lib/python3.7/site.py\", line 174, in addpackage\n",
            "      exec(line)\n",
            "    File \"<string>\", line 1, in <module>\n",
            "  FileNotFoundError: [Errno 2] No such file or directory: '/usr/lib/petsc/include/petscconf.h'\n",
            "\n",
            "Remainder of file ignored\n",
            "Error processing line 3 of /usr/lib/python3/dist-packages/mshr.pth:\n",
            "\n",
            "  Traceback (most recent call last):\n",
            "    File \"/usr/lib/python3.6/site.py\", line 174, in addpackage\n",
            "      exec(line)\n",
            "    File \"<string>\", line 1, in <module>\n",
            "  FileNotFoundError: [Errno 2] No such file or directory: '/usr/lib/petsc/include/petscconf.h'\n",
            "\n",
            "Remainder of file ignored\n",
            "Setting up libfftw3-mpi-dev:amd64 (3.3.7-1) ...\n",
            "Setting up libhypre-dev:amd64 (2.13.0-2) ...\n",
            "Setting up libmshr-dev-common:amd64 (2019.2.0~git20200924.c27eb18+git1-2~ppa1~bionic4) ...\n",
            "Setting up libklu1:amd64 (1:5.1.2-2) ...\n",
            "Setting up libcholmod3:amd64 (1:5.1.2-2) ...\n",
            "Setting up libspqr2:amd64 (1:5.1.2-2) ...\n",
            "Setting up libumfpack5:amd64 (1:5.1.2-2) ...\n",
            "Setting up libpetsc3.7.7:amd64 (3.7.7+dfsg1-2build5) ...\n",
            "update-alternatives: using /usr/lib/x86_64-linux-gnu/libpetsc_real.so.3.7.7 to provide /usr/lib/x86_64-linux-gnu/libpetsc.so.3.7 (libpetsc.so.3.7) in auto mode\n",
            "update-alternatives: using /usr/lib/x86_64-linux-gnu/libpetsc_real.so.3.7.7 to provide /usr/lib/x86_64-linux-gnu/libpetsc_real.so.3.7 (libpetsc_real.so.3.7) in auto mode\n",
            "Setting up python3-petsc4py (3.7.0-3build2) ...\n",
            "Error processing line 3 of /usr/lib/python3/dist-packages/mshr.pth:\n",
            "\n",
            "  Traceback (most recent call last):\n",
            "    File \"/usr/lib/python3.7/site.py\", line 174, in addpackage\n",
            "      exec(line)\n",
            "    File \"<string>\", line 1, in <module>\n",
            "  FileNotFoundError: [Errno 2] No such file or directory: '/usr/lib/petsc/include/petscconf.h'\n",
            "\n",
            "Remainder of file ignored\n",
            "Error processing line 3 of /usr/lib/python3/dist-packages/mshr.pth:\n",
            "\n",
            "  Traceback (most recent call last):\n",
            "    File \"/usr/lib/python3.6/site.py\", line 174, in addpackage\n",
            "      exec(line)\n",
            "    File \"<string>\", line 1, in <module>\n",
            "  FileNotFoundError: [Errno 2] No such file or directory: '/usr/lib/petsc/include/petscconf.h'\n",
            "\n",
            "Remainder of file ignored\n",
            "Setting up libsuitesparse-dev:amd64 (1:5.1.2-2) ...\n",
            "Setting up libpetsc3.7.7-dev:amd64 (3.7.7+dfsg1-2build5) ...\n",
            "update-alternatives: error: no alternatives for petsc\n",
            "update-alternatives: using /usr/lib/petscdir/3.7.7/x86_64-linux-gnu-real to provide /usr/lib/petsc (petsc) in auto mode\n",
            "update-alternatives: using /usr/lib/x86_64-linux-gnu/libpetsc_real.so.3.7.7 to provide /usr/lib/x86_64-linux-gnu/libpetsc_real.so (libpetsc_real.so) in auto mode\n",
            "update-alternatives: using /usr/lib/petscdir/3.7.7/x86_64-linux-gnu-real to provide /usr/lib/petscdir/3.7 (petsc3.7) in auto mode\n",
            "update-alternatives: using /usr/lib/petscdir/3.7.7/x86_64-linux-gnu-real to provide /usr/lib/petscdir/3.7-real (petsc3.7-real) in auto mode\n",
            "Setting up libslepc3.7.4 (3.7.4+dfsg1-2build8) ...\n",
            "update-alternatives: using /usr/lib/x86_64-linux-gnu/libslepc_real.so.3.7.4 to provide /usr/lib/x86_64-linux-gnu/libslepc.so.3.7 (libslepc.so.3.7) in auto mode\n",
            "update-alternatives: using /usr/lib/x86_64-linux-gnu/libslepc_real.so.3.7.4 to provide /usr/lib/x86_64-linux-gnu/libslepc_real.so.3.7 (libslepc_real.so.3.7) in auto mode\n",
            "Setting up python3-slepc4py (3.7.0-3build1) ...\n",
            "Setting up libslepc3.7.4-dev (3.7.4+dfsg1-2build8) ...\n",
            "update-alternatives: error: no alternatives for slepc\n",
            "update-alternatives: using /usr/lib/slepcdir/3.7.4/x86_64-linux-gnu-real to provide /usr/lib/slepc (slepc) in auto mode\n",
            "update-alternatives: using /usr/lib/x86_64-linux-gnu/libslepc_real.so.3.7.4 to provide /usr/lib/x86_64-linux-gnu/libslepc_real.so (libslepc_real.so) in auto mode\n",
            "update-alternatives: using /usr/lib/slepcdir/3.7.4/x86_64-linux-gnu-real to provide /usr/lib/slepcdir/3.7 (slepc3.7) in auto mode\n",
            "update-alternatives: using /usr/lib/slepcdir/3.7.4/x86_64-linux-gnu-real to provide /usr/lib/slepcdir/3.7-real (slepc3.7-real) in auto mode\n",
            "Setting up libdolfin2019.2:amd64 (2019.2.0~git20220407.d29e24d-5~ppa1~bionic6) ...\n",
            "Setting up libmshr2019.2:amd64 (2019.2.0~git20200924.c27eb18+git1-2~ppa1~bionic4) ...\n",
            "Setting up libdolfin-dev:amd64 (2019.2.0~git20220407.d29e24d-5~ppa1~bionic6) ...\n",
            "Setting up libmshr-dev (2019.2.0~git20200924.c27eb18+git1-2~ppa1~bionic4) ...\n",
            "Setting up python3-dolfin-real (2019.2.0~git20220407.d29e24d-5~ppa1~bionic6) ...\n",
            "Setting up python3-dolfin (2019.2.0~git20220407.d29e24d-5~ppa1~bionic6) ...\n",
            "Setting up dolfin-doc (2019.2.0~git20220407.d29e24d-5~ppa1~bionic6) ...\n",
            "Setting up dolfin-bin (2019.2.0~git20220407.d29e24d-5~ppa1~bionic6) ...\n",
            "Setting up python3-mshr-real (2019.2.0~git20200924.c27eb18+git1-2~ppa1~bionic4) ...\n",
            "Setting up python3-mshr (2019.2.0~git20200924.c27eb18+git1-2~ppa1~bionic4) ...\n",
            "Setting up fenics:amd64 (1:2019.2.0.5~ppa1~bionic1) ...\n",
            "Processing triggers for man-db (2.8.3-2ubuntu0.1) ...\n",
            "Processing triggers for fontconfig (2.12.6-0ubuntu2) ...\n",
            "Processing triggers for libc-bin (2.27-3ubuntu1.3) ...\n",
            "/sbin/ldconfig.real: /usr/local/lib/python3.7/dist-packages/ideep4py/lib/libmkldnn.so.0 is not a symbolic link\n",
            "\n"
          ]
        }
      ]
    },
    {
      "cell_type": "code",
      "source": [
        "try:\n",
        "    import google.colab  # noqa: F401\n",
        "except ImportError:\n",
        "    import dolfin\n",
        "    import mshr\n",
        "else:\n",
        "    try:\n",
        "        import dolfin\n",
        "        import mshr\n",
        "    except ImportError:\n",
        "        !wget \"https://fem-on-colab.github.io/releases/fenics-install.sh\" -O \"/tmp/fenics-install.sh\" && bash \"/tmp/fenics-install.sh\"\n",
        "        import dolfin\n",
        "        import mshr"
      ],
      "metadata": {
        "id": "HmADpRLxe69t"
      },
      "execution_count": null,
      "outputs": []
    },
    {
      "cell_type": "markdown",
      "metadata": {
        "id": "KOZ0FT40mu3o"
      },
      "source": [
        "### Initializing notebook plotting options\n"
      ]
    },
    {
      "cell_type": "code",
      "metadata": {
        "id": "TTwmaAgBmu3p"
      },
      "source": [
        "%matplotlib inline\n",
        "import matplotlib.pyplot as plt;\n",
        "from IPython.display import clear_output, display; import time; import dolfin.common.plotting as fenicsplot "
      ],
      "execution_count": null,
      "outputs": []
    },
    {
      "cell_type": "markdown",
      "source": [
        "### Importing other libraries\n",
        "\n"
      ],
      "metadata": {
        "id": "Gjq5LslYuJvh"
      }
    },
    {
      "cell_type": "code",
      "source": [
        "import numpy as np\n",
        "from math import sqrt"
      ],
      "metadata": {
        "id": "AuFhf7ZLuT_4"
      },
      "execution_count": null,
      "outputs": []
    },
    {
      "cell_type": "markdown",
      "metadata": {
        "id": "5UjQ8IGymu3v"
      },
      "source": [
        "## Creating the mesh\n",
        "\n",
        "We are now ready to set up our problem solving. We start with the geometry. Let create a mesh for square domain with a circular hole in the middle.\n",
        "\n",
        "To create the mesh, we use boolean operators from `mshr`. \n",
        "\n",
        "Define one square and a circle, then combine them with operators :\n",
        "- `+` (union), \n",
        "- `*` (intersection),\n",
        "- `-` (set difference). "
      ]
    },
    {
      "cell_type": "code",
      "metadata": {
        "id": "bSN_fu_bmu3x",
        "colab": {
          "base_uri": "https://localhost:8080/",
          "height": 300
        },
        "outputId": "2b895731-c7c8-4aef-cdf4-e4d70814594d"
      },
      "source": [
        "S0 = mshr.Rectangle(dolfin.Point(0, 0), dolfin.Point(1, 1))\n",
        "C0 = mshr.Circle(dolfin.Point(0.5,0.5),0.25)\n",
        "domain = S0-C0\n",
        "mesh = mshr.generate_mesh(domain,20)\n",
        "dolfin.plot(mesh)"
      ],
      "execution_count": null,
      "outputs": [
        {
          "output_type": "execute_result",
          "data": {
            "text/plain": [
              "[<matplotlib.lines.Line2D at 0x7f10dae0a050>,\n",
              " <matplotlib.lines.Line2D at 0x7f10dae0a610>]"
            ]
          },
          "metadata": {},
          "execution_count": 12
        },
        {
          "output_type": "display_data",
          "data": {
            "text/plain": [
              "<Figure size 432x288 with 1 Axes>"
            ],
            "image/png": "[encoded data removed]"
          },
          "metadata": {
            "needs_background": "light"
          }
        }
      ]
    },
    {
      "cell_type": "markdown",
      "metadata": {
        "collapsed": true,
        "id": "TZiACWJimu34"
      },
      "source": [
        "## Defining the finite element function space\n",
        "Once the mesh is created, we can define the finite element function space $V$. We will use a standard piecewise linear $P_1$ function space."
      ]
    },
    {
      "cell_type": "code",
      "metadata": {
        "id": "h7h4ZquDmu36",
        "colab": {
          "base_uri": "https://localhost:8080/"
        },
        "outputId": "eb105908-ab43-4e68-e8a1-fe7c35ed1e59"
      },
      "source": [
        "V = dolfin.FunctionSpace(mesh,'P',1)"
      ],
      "execution_count": null,
      "outputs": [
        {
          "output_type": "stream",
          "name": "stdout",
          "text": [
            "Calling FFC just-in-time (JIT) compiler, this may take some time.\n"
          ]
        }
      ]
    },
    {
      "cell_type": "markdown",
      "metadata": {
        "id": "D9DNLFYWmu3_"
      },
      "source": [
        "## Defining the boundary condition\n",
        "The boundaries can be defines using a condition of distance. "
      ]
    },
    {
      "cell_type": "code",
      "metadata": {
        "id": "fNUYfOIRmu4A"
      },
      "source": [
        "def circle(x, on_boundary):\n",
        "    # distance to the center of the circle\n",
        "    #x being the coordiate in two dimensions : x[0] and x[1]\n",
        "    d0 = sqrt((x[0]-0.5)**2 + (x[1]-0.5)**2)\n",
        "    # The inner boundary is defined to be on the boudary and at a distance smaller that the radius 0.3 \n",
        "    return on_boundary and (d0 < 0.3)\n",
        "\n"
      ],
      "execution_count": null,
      "outputs": []
    },
    {
      "cell_type": "markdown",
      "source": [
        "The outer boundary \n"
      ],
      "metadata": {
        "id": "wf3Jcyocbgi6"
      }
    },
    {
      "cell_type": "code",
      "source": [
        "def outside(x, on_boundary):\n",
        "    # distance to the center of the circle\n",
        "    #x being the coordiate in two dimensions : x[0] and x[1]\n",
        "    d0 = sqrt((x[0]-0.5)**2 + (x[1]-0.5)**2)\n",
        "    # The outer boundary is defined to be on the boudary and at a distance larger that the radius 0.3\n",
        "    return on_boundary and (d0 > 0.3)"
      ],
      "metadata": {
        "id": "xpBwlG9LbdzX"
      },
      "execution_count": null,
      "outputs": []
    },
    {
      "cell_type": "markdown",
      "source": [
        "The Dirichlet boundary condition \n",
        "\n",
        "$$ u = u_{\\mathrm{D}} \\quad  \\text{ on } \\Gamma_{\\mathrm{D}} $$\n",
        "\n",
        "is defined using the dolfin built in function `DirichletBC`.\n",
        "\n",
        "We decide to impose c=0 on the inner circle boundary"
      ],
      "metadata": {
        "id": "mSqfI85Bwec5"
      }
    },
    {
      "cell_type": "code",
      "source": [
        "bc = dolfin.DirichletBC(V, 0 , circle)"
      ],
      "metadata": {
        "id": "yTXYUrckwkHY"
      },
      "execution_count": null,
      "outputs": []
    },
    {
      "cell_type": "markdown",
      "source": [
        "The Neumann boundary condition\n",
        "\n",
        "$$\\partial_n u = g \\quad  \\text{ on } \\Gamma_{\\mathrm{N}} $$\n",
        "\n",
        "will appear directly in the weak form of the equations."
      ],
      "metadata": {
        "id": "9k-Fdj5AYwHu"
      }
    },
    {
      "cell_type": "markdown",
      "metadata": {
        "id": "dgnswdy4mu4H"
      },
      "source": [
        "## Defining the variational problem\n",
        "The finite element variational problem for the Poisson equation reads: \n",
        "\n",
        "Find $u \\in V$ such that\n",
        "$$\n",
        "-\\int_{\\Omega} (\\nabla^2 u)  v \\,\\mathrm{d}x = \\int_{\\Omega} fv \\,\\mathrm{d}x \n",
        "$$\n",
        "\n",
        "\n",
        "We have \n",
        "$$\n",
        "-\\int_{\\Omega} (\\nabla^2 u)  v \\,\\mathrm{d}x =\\int_{\\Omega} \\nabla u \\cdot \\nabla v \\,\\mathrm{d}x - \\int_{\\partial \\Omega} \\frac{\\partial u}{\\partial n} v  \\,\\mathrm{d}s\n",
        "$$\n",
        "\n",
        "\n",
        "By definition of the finite element function space $v=0$ on $\\Gamma_D$, thus\n",
        "\n",
        "$$ - \\int_{\\partial \\Omega} \\frac{\\partial u}{\\partial n} v  \\,\\mathrm{d}s = - \\int_{\\partial\\Omega} gv \\,\\mathrm{d}s $$\n",
        "\n",
        "he resulting weak form of our problem reads\n",
        "\n",
        "\n",
        "$$\n",
        "\\int_{\\Omega} \\nabla u \\cdot \\nabla v \\,\\mathrm{d}x = \\int_{\\Omega} fv \\,\\mathrm{d}x +\\int_{\\partial\\Omega} gv \\,\\mathrm{d}s\n",
        "$$\n",
        "for all $v \\in V$.\n",
        "\n",
        "This can be expressed in FEniCS by defining the *bilinear form* $a$ and the *linear form* $L$:\n",
        "\n",
        "\\begin{align}\n",
        "  a(u, v) &= \\int_{\\Omega} \\nabla u \\cdot \\nabla v \\,\\mathrm{d}x, \\\\\n",
        "  L(v) &= \\int_{\\Omega} fv \\,\\mathrm{d}x+\\int_{\\partial\\Omega} gv \\,\\mathrm{d}s.\n",
        "\\end{align}\n",
        "\n",
        "And the problem is to solve \n",
        "\n",
        "$$a(u, v)= L(v)$$ "
      ]
    },
    {
      "cell_type": "markdown",
      "source": [
        "We first define the trial and test function using the built in functions"
      ],
      "metadata": {
        "id": "Cx4Z-7fRwqDX"
      }
    },
    {
      "cell_type": "code",
      "metadata": {
        "id": "yoDexe_amu4I",
        "colab": {
          "base_uri": "https://localhost:8080/",
          "height": 186
        },
        "outputId": "5b4e24d1-4393-4d7a-dff6-65b56117e784"
      },
      "source": [
        "u = dolfin.TrialFunction(V)\n",
        "v = dolfin.TestFunction(V)"
      ],
      "execution_count": 2,
      "outputs": [
        {
          "output_type": "error",
          "ename": "NameError",
          "evalue": "ignored",
          "traceback": [
            "\u001b[0;31m---------------------------------------------------------------------------\u001b[0m",
            "\u001b[0;31mNameError\u001b[0m                                 Traceback (most recent call last)",
            "\u001b[0;32m<ipython-input-2-63ebc2d0a1d8>\u001b[0m in \u001b[0;36m<module>\u001b[0;34m()\u001b[0m\n\u001b[0;32m----> 1\u001b[0;31m \u001b[0mu\u001b[0m \u001b[0;34m=\u001b[0m \u001b[0mdolfin\u001b[0m\u001b[0;34m.\u001b[0m\u001b[0mTrialFunction\u001b[0m\u001b[0;34m(\u001b[0m\u001b[0mV\u001b[0m\u001b[0;34m)\u001b[0m\u001b[0;34m\u001b[0m\u001b[0;34m\u001b[0m\u001b[0m\n\u001b[0m\u001b[1;32m      2\u001b[0m \u001b[0mv\u001b[0m \u001b[0;34m=\u001b[0m \u001b[0mdolfin\u001b[0m\u001b[0;34m.\u001b[0m\u001b[0mTestFunction\u001b[0m\u001b[0;34m(\u001b[0m\u001b[0mV\u001b[0m\u001b[0;34m)\u001b[0m\u001b[0;34m\u001b[0m\u001b[0;34m\u001b[0m\u001b[0m\n",
            "\u001b[0;31mNameError\u001b[0m: name 'dolfin' is not defined"
          ]
        }
      ]
    },
    {
      "cell_type": "markdown",
      "source": [
        "Then, we define the source term as a gaussian function"
      ],
      "metadata": {
        "id": "NDmsRvW5wwYb"
      }
    },
    {
      "cell_type": "code",
      "source": [
        "f = dolfin.Expression('exp(-10.0*(pow(x[0]-0.5,2) + pow(x[1] - 0.5,2)))',degree = 2)"
      ],
      "metadata": {
        "id": "LIsSk6yyw02h",
        "colab": {
          "base_uri": "https://localhost:8080/",
          "height": 168
        },
        "outputId": "6b3cbbc8-1cb7-433d-84e7-3455995ffffa"
      },
      "execution_count": 3,
      "outputs": [
        {
          "output_type": "error",
          "ename": "NameError",
          "evalue": "ignored",
          "traceback": [
            "\u001b[0;31m---------------------------------------------------------------------------\u001b[0m",
            "\u001b[0;31mNameError\u001b[0m                                 Traceback (most recent call last)",
            "\u001b[0;32m<ipython-input-3-ff94e3c71787>\u001b[0m in \u001b[0;36m<module>\u001b[0;34m()\u001b[0m\n\u001b[0;32m----> 1\u001b[0;31m \u001b[0mf\u001b[0m \u001b[0;34m=\u001b[0m \u001b[0mdolfin\u001b[0m\u001b[0;34m.\u001b[0m\u001b[0mExpression\u001b[0m\u001b[0;34m(\u001b[0m\u001b[0;34m'exp(-10.0*(pow(x[0]-0.5,2) + pow(x[1] - 0.5,2)))'\u001b[0m\u001b[0;34m,\u001b[0m\u001b[0mdegree\u001b[0m \u001b[0;34m=\u001b[0m \u001b[0;36m2\u001b[0m\u001b[0;34m)\u001b[0m\u001b[0;34m\u001b[0m\u001b[0;34m\u001b[0m\u001b[0m\n\u001b[0m",
            "\u001b[0;31mNameError\u001b[0m: name 'dolfin' is not defined"
          ]
        }
      ]
    },
    {
      "cell_type": "markdown",
      "source": [
        "We define an outer flow boundary condition (Neumann) which will be applied on all the boundaries where no Dirichlet condition is defined.\n"
      ],
      "metadata": {
        "id": "TDm-fPQ1bQ3i"
      }
    },
    {
      "cell_type": "code",
      "source": [
        "g=dolfin.Constant(1)"
      ],
      "metadata": {
        "id": "o8psMGhDbNJx"
      },
      "execution_count": null,
      "outputs": []
    },
    {
      "cell_type": "markdown",
      "source": [
        "The bilinear form a and the linea form L are defined as follow :"
      ],
      "metadata": {
        "id": "iJC5Du4ww3bn"
      }
    },
    {
      "cell_type": "code",
      "source": [
        "a = dolfin.inner(dolfin.grad(u), dolfin.grad(v))*dolfin.dx\n",
        "L = f*v*dolfin.dx + g*v*dolfin.ds"
      ],
      "metadata": {
        "id": "vd_RlnhNw_EN"
      },
      "execution_count": null,
      "outputs": []
    },
    {
      "cell_type": "markdown",
      "source": [
        "The ds variable implies a boundary integral, while dx implies an integral over the domain Ω.\n",
        "\n",
        "The integration $ds$ is carried out over the entire boundary, including the Dirichlet boundary. However, since the test function v vanishes on the Dirichlet boundary (as a result specifying a `DirichletBC`), the integral will only include the contribution from the Neumann boundary."
      ],
      "metadata": {
        "id": "ukg8J17udrts"
      }
    },
    {
      "cell_type": "markdown",
      "metadata": {
        "id": "G8Dw50mLmu4M"
      },
      "source": [
        "## Solving the variational problem\n",
        "The variational problem can now be solved by calling the FEniCS `solve` command. "
      ]
    },
    {
      "cell_type": "code",
      "metadata": {
        "id": "Uia2sdaOmu4M",
        "colab": {
          "base_uri": "https://localhost:8080/",
          "height": 203
        },
        "outputId": "c67b7483-3dab-43fa-b7e4-d6aeeae095a8"
      },
      "source": [
        "c = dolfin.Function(V)\n",
        "dolfin.solve(a == L, c, bc)\n"
      ],
      "execution_count": 4,
      "outputs": [
        {
          "output_type": "error",
          "ename": "NameError",
          "evalue": "ignored",
          "traceback": [
            "\u001b[0;31m---------------------------------------------------------------------------\u001b[0m",
            "\u001b[0;31mNameError\u001b[0m                                 Traceback (most recent call last)",
            "\u001b[0;32m<ipython-input-4-d4a18b1eb255>\u001b[0m in \u001b[0;36m<module>\u001b[0;34m()\u001b[0m\n\u001b[0;32m----> 1\u001b[0;31m \u001b[0mc\u001b[0m \u001b[0;34m=\u001b[0m \u001b[0mdolfin\u001b[0m\u001b[0;34m.\u001b[0m\u001b[0mFunction\u001b[0m\u001b[0;34m(\u001b[0m\u001b[0mV\u001b[0m\u001b[0;34m)\u001b[0m\u001b[0;34m\u001b[0m\u001b[0;34m\u001b[0m\u001b[0m\n\u001b[0m\u001b[1;32m      2\u001b[0m \u001b[0mdolfin\u001b[0m\u001b[0;34m.\u001b[0m\u001b[0msolve\u001b[0m\u001b[0;34m(\u001b[0m\u001b[0ma\u001b[0m \u001b[0;34m==\u001b[0m \u001b[0mL\u001b[0m\u001b[0;34m,\u001b[0m \u001b[0mc\u001b[0m\u001b[0;34m,\u001b[0m \u001b[0mbc\u001b[0m\u001b[0;34m)\u001b[0m\u001b[0;34m\u001b[0m\u001b[0;34m\u001b[0m\u001b[0m\n\u001b[1;32m      3\u001b[0m \u001b[0mdolfin\u001b[0m\u001b[0;34m.\u001b[0m\u001b[0mplot\u001b[0m\u001b[0;34m(\u001b[0m\u001b[0mc\u001b[0m\u001b[0;34m)\u001b[0m\u001b[0;34m\u001b[0m\u001b[0;34m\u001b[0m\u001b[0m\n",
            "\u001b[0;31mNameError\u001b[0m: name 'dolfin' is not defined"
          ]
        }
      ]
    },
    {
      "cell_type": "markdown",
      "source": [
        "The dolfin `plot` function can be used to visualize the solution. "
      ],
      "metadata": {
        "id": "_OkxlQIQna5Y"
      }
    },
    {
      "cell_type": "code",
      "source": [
        "dolfin.plot(c)"
      ],
      "metadata": {
        "id": "bMqCSv7Lnfy-"
      },
      "execution_count": null,
      "outputs": []
    },
    {
      "cell_type": "markdown",
      "metadata": {
        "collapsed": true,
        "id": "U3-yQ_Vkmu4Q"
      },
      "source": [
        "## Postprocessing\n",
        "\n",
        "We can integrate the value of c over the entire domain using the dolfin function `assemble`"
      ]
    },
    {
      "cell_type": "code",
      "metadata": {
        "id": "uw2QcNu9mu4R",
        "colab": {
          "base_uri": "https://localhost:8080/",
          "height": 203
        },
        "outputId": "7e28f8be-25d5-4cc2-c147-d99eba0e21bd"
      },
      "source": [
        "integral=dolfin.assemble(c*dolfin.dx(mesh))\n",
        "\n",
        "print('Total mass :',integral)"
      ],
      "execution_count": 5,
      "outputs": [
        {
          "output_type": "error",
          "ename": "NameError",
          "evalue": "ignored",
          "traceback": [
            "\u001b[0;31m---------------------------------------------------------------------------\u001b[0m",
            "\u001b[0;31mNameError\u001b[0m                                 Traceback (most recent call last)",
            "\u001b[0;32m<ipython-input-5-a3e614786f54>\u001b[0m in \u001b[0;36m<module>\u001b[0;34m()\u001b[0m\n\u001b[0;32m----> 1\u001b[0;31m \u001b[0mintegral\u001b[0m\u001b[0;34m=\u001b[0m\u001b[0mdolfin\u001b[0m\u001b[0;34m.\u001b[0m\u001b[0massemble\u001b[0m\u001b[0;34m(\u001b[0m\u001b[0mc\u001b[0m\u001b[0;34m*\u001b[0m\u001b[0mdolfin\u001b[0m\u001b[0;34m.\u001b[0m\u001b[0mdx\u001b[0m\u001b[0;34m(\u001b[0m\u001b[0mmesh\u001b[0m\u001b[0;34m)\u001b[0m\u001b[0;34m)\u001b[0m\u001b[0;34m\u001b[0m\u001b[0;34m\u001b[0m\u001b[0m\n\u001b[0m\u001b[1;32m      2\u001b[0m \u001b[0;34m\u001b[0m\u001b[0m\n\u001b[1;32m      3\u001b[0m \u001b[0mprint\u001b[0m\u001b[0;34m(\u001b[0m\u001b[0;34m'Total mass :'\u001b[0m\u001b[0;34m,\u001b[0m\u001b[0mintegral\u001b[0m\u001b[0;34m)\u001b[0m\u001b[0;34m\u001b[0m\u001b[0;34m\u001b[0m\u001b[0m\n",
            "\u001b[0;31mNameError\u001b[0m: name 'dolfin' is not defined"
          ]
        }
      ]
    },
    {
      "cell_type": "markdown",
      "source": [
        "# IV/ Solve the time dependant problem with FEniCS\n",
        "\n",
        "We now consider the time dependant problem governed by the diffusion equation \n",
        "\n",
        "$$\\frac{\\partial c}{\\partial t}= -k\\Delta c + S(x)$$"
      ],
      "metadata": {
        "id": "Jmul_trnxUfu"
      }
    },
    {
      "cell_type": "markdown",
      "source": [
        "## Time discretisation \n",
        "\n",
        "We discretize the time derivative with a finite difference approximation.\n",
        "\n",
        "\n",
        "Let superscript $n$ denote a quantity at time $t_n$, where $n$ is an integer counting the time steps of length $\\Delta t$. The time derivative can be discretized by\n",
        "\n",
        "$$ \\frac{\\partial c}{\\partial t}^{n+1}= \\frac{c^{n+1}-c^{n}}{\\Delta t}$$\n",
        "\n",
        "Then, using an implicit backward Euler scheme, the diffusion equation at time step $n+1$ is\n",
        "\n",
        "$$ \\frac{c^{n+1}-c^{n}}{\\Delta t}=-k\\Delta c^{n+1} + S(x)^{n+1}$$\n",
        "\n",
        "The solution of c at time step $n+1$ is obtained by solving the stationary problem \n",
        "\n",
        "$$ c^{n+1}+k\\Delta c^{n+1} \\Delta t - S(x)^{n+1} \\Delta t - c^n =0$$\n"
      ],
      "metadata": {
        "id": "MNX4vmJYybZW"
      }
    },
    {
      "cell_type": "markdown",
      "source": [
        "## Variational form \n",
        "\n",
        "Let u be the solution $c^{n+1}$. \n",
        "\n",
        "\n",
        "\n",
        "We multiply by a test function v and integrate second-derivatives by parts and use the divergence theorem. This lead to the bilinear and linear forms\n",
        "\n",
        "\\begin{align}\n",
        "  a(u, v) &= \\int_{\\Omega} (uv + k\\Delta t \\nabla u \\cdot \\nabla v ) \\,\\mathrm{d}x, \\\\\n",
        "  L(v) &= \\int_{\\Omega}  (S(x)^{n+1} \\Delta t + c^{n} ) v  \\,\\mathrm{d}x+\\int_{\\partial \\Omega} g^{n+1}\\Delta t v \\,\\mathrm{d}s\n",
        "\\end{align}\n",
        "\n",
        "\n",
        "\n"
      ],
      "metadata": {
        "id": "PRFBUwls1ZuF"
      }
    },
    {
      "cell_type": "code",
      "source": [
        "# for the exemple we set a time step \n",
        "dt=1\n",
        "# a uniform previous solution at previous time step\n",
        "u_n=dolfin.interpolate(dolfin.Constant(0),V)\n",
        "# a uniform source term\n",
        "S=dolfin.interpolate(dolfin.Constant(0),V)\n",
        "# a diffusion coefficient\n",
        "k=1\n",
        "\n",
        "\n",
        "F = u*v*dolfin.dx + k*dt*dolfin.inner(dolfin.grad(u), dolfin.grad(v))*dolfin.dx - (u_n + dt*S)*v*dolfin.dx + dt*g*v*dolfin.ds\n",
        "a, L = dolfin.lhs(F), dolfin.rhs(F)"
      ],
      "metadata": {
        "id": "JxSfLgFm52a5"
      },
      "execution_count": null,
      "outputs": []
    },
    {
      "cell_type": "markdown",
      "source": [
        "## Initial conditions\n",
        "\n",
        "Let define the initial conditions. For the example we use a gaussian-like function. \n"
      ],
      "metadata": {
        "id": "dLWuS_Kq585C"
      }
    },
    {
      "cell_type": "code",
      "source": [
        "x=np.linspace(0,1,100) \n",
        "y=np.linspace(0,1,100)\n",
        "\n",
        "X,Y =np.meshgrid(x, y)\n",
        "\n",
        "x0=0.5 \n",
        "y0=0.5 \n",
        "sx=0.5 \n",
        "sy=0.5\n",
        "A=1\n",
        "\n",
        "Z=A-A*np.exp(-((X-x0)**2/(2*sx**2) + (Y - y0)**2)/(2*sy**2))\n",
        "\n",
        "plt.contourf(X,Y,Z,50)\n"
      ],
      "metadata": {
        "colab": {
          "base_uri": "https://localhost:8080/",
          "height": 238
        },
        "id": "ehosTZgXBQGd",
        "outputId": "ca8d1898-6c9a-4cea-ac3c-0b5fb6247424"
      },
      "execution_count": 6,
      "outputs": [
        {
          "output_type": "error",
          "ename": "NameError",
          "evalue": "ignored",
          "traceback": [
            "\u001b[0;31m---------------------------------------------------------------------------\u001b[0m",
            "\u001b[0;31mNameError\u001b[0m                                 Traceback (most recent call last)",
            "\u001b[0;32m<ipython-input-6-f46a175b1382>\u001b[0m in \u001b[0;36m<module>\u001b[0;34m()\u001b[0m\n\u001b[0;32m----> 1\u001b[0;31m \u001b[0mx\u001b[0m\u001b[0;34m=\u001b[0m\u001b[0mnp\u001b[0m\u001b[0;34m.\u001b[0m\u001b[0mlinspace\u001b[0m\u001b[0;34m(\u001b[0m\u001b[0;36m0\u001b[0m\u001b[0;34m,\u001b[0m\u001b[0;36m1\u001b[0m\u001b[0;34m,\u001b[0m\u001b[0;36m100\u001b[0m\u001b[0;34m)\u001b[0m\u001b[0;34m\u001b[0m\u001b[0;34m\u001b[0m\u001b[0m\n\u001b[0m\u001b[1;32m      2\u001b[0m \u001b[0my\u001b[0m\u001b[0;34m=\u001b[0m\u001b[0mnp\u001b[0m\u001b[0;34m.\u001b[0m\u001b[0mlinspace\u001b[0m\u001b[0;34m(\u001b[0m\u001b[0;36m0\u001b[0m\u001b[0;34m,\u001b[0m\u001b[0;36m1\u001b[0m\u001b[0;34m,\u001b[0m\u001b[0;36m100\u001b[0m\u001b[0;34m)\u001b[0m\u001b[0;34m\u001b[0m\u001b[0;34m\u001b[0m\u001b[0m\n\u001b[1;32m      3\u001b[0m \u001b[0;34m\u001b[0m\u001b[0m\n\u001b[1;32m      4\u001b[0m \u001b[0mX\u001b[0m\u001b[0;34m,\u001b[0m\u001b[0mY\u001b[0m \u001b[0;34m=\u001b[0m\u001b[0mnp\u001b[0m\u001b[0;34m.\u001b[0m\u001b[0mmeshgrid\u001b[0m\u001b[0;34m(\u001b[0m\u001b[0mx\u001b[0m\u001b[0;34m,\u001b[0m \u001b[0my\u001b[0m\u001b[0;34m)\u001b[0m\u001b[0;34m\u001b[0m\u001b[0;34m\u001b[0m\u001b[0m\n\u001b[1;32m      5\u001b[0m \u001b[0;34m\u001b[0m\u001b[0m\n",
            "\u001b[0;31mNameError\u001b[0m: name 'np' is not defined"
          ]
        }
      ]
    },
    {
      "cell_type": "markdown",
      "source": [
        "In the dolfin syntax (similar to C) this function is defined as"
      ],
      "metadata": {
        "id": "jB91OBBCoOHt"
      }
    },
    {
      "cell_type": "code",
      "source": [
        "cinit=dolfin.Expression('A-A*exp(-((pow(x[0]-x0,2)/(2*pow(sx,2)))+(pow(x[1]-y0,2)/(2*pow(sy,2)))))', A=1,x0=0.5,y0=0.5,sx=0.5,sy=0.5,degree = 2)"
      ],
      "metadata": {
        "id": "W7TXzx8eCAv-",
        "colab": {
          "base_uri": "https://localhost:8080/",
          "height": 168
        },
        "outputId": "3ba4bcfe-9655-48b8-99ca-9896083e7988"
      },
      "execution_count": 7,
      "outputs": [
        {
          "output_type": "error",
          "ename": "NameError",
          "evalue": "ignored",
          "traceback": [
            "\u001b[0;31m---------------------------------------------------------------------------\u001b[0m",
            "\u001b[0;31mNameError\u001b[0m                                 Traceback (most recent call last)",
            "\u001b[0;32m<ipython-input-7-90cadaf3fb2d>\u001b[0m in \u001b[0;36m<module>\u001b[0;34m()\u001b[0m\n\u001b[0;32m----> 1\u001b[0;31m \u001b[0mcinit\u001b[0m\u001b[0;34m=\u001b[0m\u001b[0mdolfin\u001b[0m\u001b[0;34m.\u001b[0m\u001b[0mExpression\u001b[0m\u001b[0;34m(\u001b[0m\u001b[0;34m'A-A*exp(-((pow(x[0]-x0,2)/(2*pow(sx,2)))+(pow(x[1]-y0,2)/(2*pow(sy,2)))))'\u001b[0m\u001b[0;34m,\u001b[0m \u001b[0mA\u001b[0m\u001b[0;34m=\u001b[0m\u001b[0;36m1\u001b[0m\u001b[0;34m,\u001b[0m\u001b[0mx0\u001b[0m\u001b[0;34m=\u001b[0m\u001b[0;36m0.5\u001b[0m\u001b[0;34m,\u001b[0m\u001b[0my0\u001b[0m\u001b[0;34m=\u001b[0m\u001b[0;36m0.5\u001b[0m\u001b[0;34m,\u001b[0m\u001b[0msx\u001b[0m\u001b[0;34m=\u001b[0m\u001b[0;36m0.5\u001b[0m\u001b[0;34m,\u001b[0m\u001b[0msy\u001b[0m\u001b[0;34m=\u001b[0m\u001b[0;36m0.5\u001b[0m\u001b[0;34m,\u001b[0m\u001b[0mdegree\u001b[0m \u001b[0;34m=\u001b[0m \u001b[0;36m2\u001b[0m\u001b[0;34m)\u001b[0m\u001b[0;34m\u001b[0m\u001b[0;34m\u001b[0m\u001b[0m\n\u001b[0m",
            "\u001b[0;31mNameError\u001b[0m: name 'dolfin' is not defined"
          ]
        }
      ]
    },
    {
      "cell_type": "markdown",
      "source": [
        "We interpolate the initial function on the finite element space. This is out solution at initial time. "
      ],
      "metadata": {
        "id": "eolYSmxiDgJY"
      }
    },
    {
      "cell_type": "code",
      "source": [
        "u_n = dolfin.interpolate(cinit, V)"
      ],
      "metadata": {
        "id": "62HQ-tkmDyoB"
      },
      "execution_count": null,
      "outputs": []
    },
    {
      "cell_type": "markdown",
      "source": [
        "## Source term definition\n",
        "\n",
        "We set the source term as a homogeneous sink term. \n",
        "\n",
        "\n",
        "\n"
      ],
      "metadata": {
        "id": "5W6Otjm_EHBl"
      }
    },
    {
      "cell_type": "code",
      "source": [
        "S=dolfin.Constant(-1)"
      ],
      "metadata": {
        "id": "DDOp0CRGFU-f",
        "colab": {
          "base_uri": "https://localhost:8080/",
          "height": 168
        },
        "outputId": "399bde6b-bd93-4035-e009-4600c837dba4"
      },
      "execution_count": 8,
      "outputs": [
        {
          "output_type": "error",
          "ename": "NameError",
          "evalue": "ignored",
          "traceback": [
            "\u001b[0;31m---------------------------------------------------------------------------\u001b[0m",
            "\u001b[0;31mNameError\u001b[0m                                 Traceback (most recent call last)",
            "\u001b[0;32m<ipython-input-8-931f5801f825>\u001b[0m in \u001b[0;36m<module>\u001b[0;34m()\u001b[0m\n\u001b[0;32m----> 1\u001b[0;31m \u001b[0mS\u001b[0m\u001b[0;34m=\u001b[0m\u001b[0mdolfin\u001b[0m\u001b[0;34m.\u001b[0m\u001b[0mConstant\u001b[0m\u001b[0;34m(\u001b[0m\u001b[0;36m1\u001b[0m\u001b[0;34m)\u001b[0m\u001b[0;34m\u001b[0m\u001b[0;34m\u001b[0m\u001b[0m\n\u001b[0m",
            "\u001b[0;31mNameError\u001b[0m: name 'dolfin' is not defined"
          ]
        }
      ]
    },
    {
      "cell_type": "markdown",
      "source": [
        "## Resolution \n",
        "\n",
        "Finaly we solve the problem over several time steps\n",
        "\n"
      ],
      "metadata": {
        "id": "WXPwg72YHCue"
      }
    },
    {
      "cell_type": "code",
      "source": [
        "t = 0\n",
        "num_steps=5\n",
        "\n",
        "dt=0.1\n",
        "\n",
        "\n",
        "\n",
        "k=1\n",
        "\n",
        "u_n = dolfin.interpolate(cinit, V)\n",
        "\n",
        "plt.figure()\n",
        "dolfin.plot(u_n)\n",
        "\n",
        "\n",
        "\n",
        "\n",
        "# Create a list to store the value of the total mass\n",
        "mass=dolfin.assemble(u_n*dolfin.dx(mesh))\n",
        "spanmass=[mass]\n",
        "\n",
        "for n in range(num_steps):\n",
        "\n",
        "    # Update current time\n",
        "    t += dt\n",
        "\n",
        "    # We update the problem\n",
        "\n",
        "    u = dolfin.TrialFunction(V)\n",
        "    v = dolfin.TestFunction(V) \n",
        "\n",
        "    F = u*v*dolfin.dx + k*dt*dolfin.inner(dolfin.grad(u), dolfin.grad(v))*dolfin.dx - (c_n + dt*S)*v*dolfin.dx+ dt*g*v*dolfin.ds\n",
        "    a, L = dolfin.lhs(F), dolfin.rhs(F)\n",
        "\n",
        "    c = dolfin.Function(V)\n",
        "\n",
        "\n",
        "    # Solve variational problem\n",
        "    dolfin.solve(a == L, c,bc)\n",
        "\n",
        "    # Update previous solution\n",
        "    c_n.assign(c)\n",
        "\n",
        "    #add the mass to the list\n",
        "    mass=dolfin.assemble(u_n*dolfin.dx(mesh))\n",
        "    spanmass.append(mass)\n",
        "\n",
        "    plt.figure()\n",
        "    dolfin.plot(c)\n"
      ],
      "metadata": {
        "colab": {
          "base_uri": "https://localhost:8080/",
          "height": 238
        },
        "id": "IMD8ZS_PFauo",
        "outputId": "15aa0fcc-af36-42fc-d0d9-335957db7486"
      },
      "execution_count": 9,
      "outputs": [
        {
          "output_type": "error",
          "ename": "NameError",
          "evalue": "ignored",
          "traceback": [
            "\u001b[0;31m---------------------------------------------------------------------------\u001b[0m",
            "\u001b[0;31mNameError\u001b[0m                                 Traceback (most recent call last)",
            "\u001b[0;32m<ipython-input-9-fddd99723fff>\u001b[0m in \u001b[0;36m<module>\u001b[0;34m()\u001b[0m\n\u001b[1;32m      4\u001b[0m \u001b[0mdt\u001b[0m\u001b[0;34m=\u001b[0m\u001b[0;36m0.1\u001b[0m\u001b[0;34m\u001b[0m\u001b[0;34m\u001b[0m\u001b[0m\n\u001b[1;32m      5\u001b[0m \u001b[0;34m\u001b[0m\u001b[0m\n\u001b[0;32m----> 6\u001b[0;31m \u001b[0mu\u001b[0m \u001b[0;34m=\u001b[0m \u001b[0mdolfin\u001b[0m\u001b[0;34m.\u001b[0m\u001b[0mTrialFunction\u001b[0m\u001b[0;34m(\u001b[0m\u001b[0mV\u001b[0m\u001b[0;34m)\u001b[0m\u001b[0;34m\u001b[0m\u001b[0;34m\u001b[0m\u001b[0m\n\u001b[0m\u001b[1;32m      7\u001b[0m \u001b[0mv\u001b[0m \u001b[0;34m=\u001b[0m \u001b[0mdolfin\u001b[0m\u001b[0;34m.\u001b[0m\u001b[0mTestFunction\u001b[0m\u001b[0;34m(\u001b[0m\u001b[0mV\u001b[0m\u001b[0;34m)\u001b[0m\u001b[0;34m\u001b[0m\u001b[0;34m\u001b[0m\u001b[0m\n\u001b[1;32m      8\u001b[0m \u001b[0;34m\u001b[0m\u001b[0m\n",
            "\u001b[0;31mNameError\u001b[0m: name 'dolfin' is not defined"
          ]
        }
      ]
    },
    {
      "cell_type": "markdown",
      "source": [
        "Let visualize the evolution of the integrated mass with time :"
      ],
      "metadata": {
        "id": "8j3Ary4EpBQz"
      }
    },
    {
      "cell_type": "code",
      "source": [
        "spantime=np.linspace(0,dt*num_steps,num_steps+1)\n",
        "plt.plot(spantime,spanmass)\n",
        "plt.ylabel('Mass')\n",
        "plt.xlabel('Time')"
      ],
      "metadata": {
        "colab": {
          "base_uri": "https://localhost:8080/",
          "height": 220
        },
        "id": "GR9fVB6WWKxu",
        "outputId": "acc03d6b-5cc7-44ee-96ce-d3b6bdc5e904"
      },
      "execution_count": 10,
      "outputs": [
        {
          "output_type": "error",
          "ename": "NameError",
          "evalue": "ignored",
          "traceback": [
            "\u001b[0;31m---------------------------------------------------------------------------\u001b[0m",
            "\u001b[0;31mNameError\u001b[0m                                 Traceback (most recent call last)",
            "\u001b[0;32m<ipython-input-10-8eddf0548de8>\u001b[0m in \u001b[0;36m<module>\u001b[0;34m()\u001b[0m\n\u001b[0;32m----> 1\u001b[0;31m \u001b[0mspantime\u001b[0m\u001b[0;34m=\u001b[0m\u001b[0mnp\u001b[0m\u001b[0;34m.\u001b[0m\u001b[0mlinspace\u001b[0m\u001b[0;34m(\u001b[0m\u001b[0;36m0\u001b[0m\u001b[0;34m,\u001b[0m\u001b[0mdt\u001b[0m\u001b[0;34m*\u001b[0m\u001b[0mnum_steps\u001b[0m\u001b[0;34m,\u001b[0m\u001b[0mnum_steps\u001b[0m\u001b[0;34m+\u001b[0m\u001b[0;36m1\u001b[0m\u001b[0;34m)\u001b[0m\u001b[0;34m\u001b[0m\u001b[0;34m\u001b[0m\u001b[0m\n\u001b[0m\u001b[1;32m      2\u001b[0m \u001b[0mplt\u001b[0m\u001b[0;34m.\u001b[0m\u001b[0mplot\u001b[0m\u001b[0;34m(\u001b[0m\u001b[0mspantime\u001b[0m\u001b[0;34m,\u001b[0m\u001b[0mspanmass\u001b[0m\u001b[0;34m)\u001b[0m\u001b[0;34m\u001b[0m\u001b[0;34m\u001b[0m\u001b[0m\n\u001b[1;32m      3\u001b[0m \u001b[0mplt\u001b[0m\u001b[0;34m.\u001b[0m\u001b[0mylabel\u001b[0m\u001b[0;34m(\u001b[0m\u001b[0;34m'Mass'\u001b[0m\u001b[0;34m)\u001b[0m\u001b[0;34m\u001b[0m\u001b[0;34m\u001b[0m\u001b[0m\n\u001b[1;32m      4\u001b[0m \u001b[0mplt\u001b[0m\u001b[0;34m.\u001b[0m\u001b[0mxlabel\u001b[0m\u001b[0;34m(\u001b[0m\u001b[0;34m'Time'\u001b[0m\u001b[0;34m)\u001b[0m\u001b[0;34m\u001b[0m\u001b[0;34m\u001b[0m\u001b[0m\n",
            "\u001b[0;31mNameError\u001b[0m: name 'np' is not defined"
          ]
        }
      ]
    },
    {
      "cell_type": "markdown",
      "source": [
        "# V/ Simulation of the Gadobustrol experiments\n",
        "\n",
        "Now the objective (exercice) is to apply the previous computing framework (solving the time dependant diffusion equation) in order to interpret the clinical data presented in section I/. You will need to adapt the previous code in order to set up a proper mesh, diffusion coefficient, source term and boundary conditions.\n",
        "\n",
        "Here are some hints :\n",
        "\n",
        "- Typical size of the human brain : 15 cm\n",
        "- Gadobustrol apparent diffusion coefficient : 1.5 × 10−5 cm2/s\n",
        "\n",
        "\n",
        "## Enrichment phase\n",
        "\n",
        "Assuming the concentration is 100 (arbitrary unit) in the subarachnoid space after injection. What is the profile of concentration in the brain after 6 hours ?\n",
        "\n",
        "\n",
        "## Clearance phase\n",
        "\n",
        "From the previous concentration profile, we would like to compute the clearance. \n",
        "\n",
        "The clearance of Gadobustrol is done through the cerebrospinal fluid transport and absorption out of the central nervous system (into the veins or the lynphatic vessels). We can make two simple different assumption about the clearance \n",
        "- clearance is homogeneous over the whole brain (absorption through capillaries) \n",
        "- clearance occurs on the outersurface (absorption from the subarachnoid space)\n",
        "\n",
        "In order to get an estimate of the clearance rate, we can have in mind that :\n",
        "- The total CSF turn-over rate has been estimated to 500 ml/day in humans\n",
        "\n",
        "Can you simulate the clearance phase ? \n",
        "\n",
        "How does the diffusion coefficient impact this clearance ? Can we make the assumption that this coefficient is different during sleep and awake phases ?\n",
        "\n",
        "\n",
        "Note : We recomand to work in the CGS unit system (cm, gram, second)"
      ],
      "metadata": {
        "id": "GuNfPuF9jpsx"
      }
    },
    {
      "cell_type": "markdown",
      "source": [
        "# VI / proposition of a solution \n",
        "\n",
        "There is not a unique way to interpret the data. Research is about making clear hypothesis and discuss the meaning of our model."
      ],
      "metadata": {
        "id": "CsrAitcFq5SB"
      }
    },
    {
      "cell_type": "markdown",
      "source": [
        "## Brain mesh\n",
        "\n",
        "We assume the brain as an homogeneous hollow sphere and we decine to model a 2D cut of it. The geometry is therefor a 2D disk. The outer surface (subarachnoid boundary) is assumed to have a radius of 8 cm. The inner surface (ventricule) is assumed to have a radius of 2 cm. "
      ],
      "metadata": {
        "id": "HYq5b1xIrJjS"
      }
    },
    {
      "cell_type": "code",
      "source": [
        "S0 = mshr.Circle(dolfin.Point(0.,0.),8)\n",
        "C0 = mshr.Circle(dolfin.Point(0.,0.),2)\n",
        "domain = S0-C0\n",
        "mesh = mshr.generate_mesh(domain,20)\n",
        "dolfin.plot(mesh)"
      ],
      "metadata": {
        "colab": {
          "base_uri": "https://localhost:8080/",
          "height": 300
        },
        "id": "gxIeGP5AooXd",
        "outputId": "1888d0d4-526c-4182-fc94-a49f1f3a4ca1"
      },
      "execution_count": null,
      "outputs": [
        {
          "output_type": "execute_result",
          "data": {
            "text/plain": [
              "[<matplotlib.lines.Line2D at 0x7f10c067b990>,\n",
              " <matplotlib.lines.Line2D at 0x7f10c2061d90>]"
            ]
          },
          "metadata": {},
          "execution_count": 154
        },
        {
          "output_type": "display_data",
          "data": {
            "text/plain": [
              "<Figure size 432x288 with 1 Axes>"
            ],
            "image/png": "[encoded data removed]"
          },
          "metadata": {
            "needs_background": "light"
          }
        }
      ]
    },
    {
      "cell_type": "markdown",
      "source": [
        "Finite elements function spaces (we use the same as previously)"
      ],
      "metadata": {
        "id": "vxBP_5NOsB5u"
      }
    },
    {
      "cell_type": "code",
      "source": [
        "V = dolfin.FunctionSpace(mesh,'P',1)"
      ],
      "metadata": {
        "id": "kdaNPoRvsCUL"
      },
      "execution_count": null,
      "outputs": []
    },
    {
      "cell_type": "markdown",
      "source": [
        "## Enrichment phase"
      ],
      "metadata": {
        "id": "BVlV_H_atxon"
      }
    },
    {
      "cell_type": "markdown",
      "source": [
        "### Boundary conditions\n",
        "\n",
        "We define the inner and outer boundaries using a distance condition."
      ],
      "metadata": {
        "id": "c6hkZ3Zsrmha"
      }
    },
    {
      "cell_type": "code",
      "source": [
        "def inner(x, on_boundary):\n",
        "    # distance to the center of the circle\n",
        "    #x being the coordiate in two dimensions : x[0] and x[1]\n",
        "    d0 = sqrt((x[0]-0)**2 + (x[1]-0)**2)\n",
        "    #condition \n",
        "    return on_boundary and (d0 < 3)\n",
        "\n",
        "\n",
        "def outer(x, on_boundary):\n",
        "    # distance to the center of the circle\n",
        "    #x being the coordiate in two dimensions : x[0] and x[1]\n",
        "    d0 = sqrt((x[0]-0)**2 + (x[1]-0)**2)\n",
        "    #condition \n",
        "    return on_boundary and (d0 > 3)"
      ],
      "metadata": {
        "id": "QP_AiWY_qKrb"
      },
      "execution_count": null,
      "outputs": []
    },
    {
      "cell_type": "markdown",
      "source": [
        "We assume that during the enrichment phase, the tracer is saturated in the subarachnoid space. The concentration is assumed as constant on the outer boundary and we impose a Dirichlet boundary condition."
      ],
      "metadata": {
        "id": "E9nCuvYntFr-"
      }
    },
    {
      "cell_type": "code",
      "source": [
        "# Dirichlet boundary condition on the outer side\n",
        "bc = dolfin.DirichletBC(V, dolfin.Constant(1) , outer)"
      ],
      "metadata": {
        "id": "mTo6j1qetFGW"
      },
      "execution_count": null,
      "outputs": []
    },
    {
      "cell_type": "markdown",
      "source": [
        "On the inner side we assume a no flow Neumann boundary condition"
      ],
      "metadata": {
        "id": "Yusk3yTMw473"
      }
    },
    {
      "cell_type": "code",
      "source": [
        "g=dolfin.Constant(0) # flow condition on Neumann boundaries"
      ],
      "metadata": {
        "id": "WdLXWkaPw84Z"
      },
      "execution_count": null,
      "outputs": []
    },
    {
      "cell_type": "markdown",
      "source": [
        "### Initial conditions\n",
        "\n",
        "At time t=0 h , we assume no tracer is in the brain. The concentration is set to 0."
      ],
      "metadata": {
        "id": "TB84yPbMsK23"
      }
    },
    {
      "cell_type": "code",
      "source": [
        "t = 0\n",
        "c_n = dolfin.interpolate(dolfin.Constant(0), V)"
      ],
      "metadata": {
        "id": "1JgZbe8MsWFZ"
      },
      "execution_count": null,
      "outputs": []
    },
    {
      "cell_type": "markdown",
      "source": [
        "### Parameters\n",
        "\n",
        "We define the apparent diffusion coefficient for Gadobustrol in the brain."
      ],
      "metadata": {
        "id": "RCFtjEfLssDb"
      }
    },
    {
      "cell_type": "code",
      "source": [
        "k=1.5e-5 #cm2/s"
      ],
      "metadata": {
        "id": "J5sIcsF2ssO1"
      },
      "execution_count": null,
      "outputs": []
    },
    {
      "cell_type": "markdown",
      "source": [
        "### Time stepping definition \n",
        "\n",
        "We would like to simulate the evolution of tracer diffusion over 6 hours. We chose the number of time step and compute the corresponding lenght of time step."
      ],
      "metadata": {
        "id": "L_f-sE-BsbKN"
      }
    },
    {
      "cell_type": "code",
      "source": [
        "tend= 60*60*6  \n",
        "nsteps=100\n",
        "dt=tend/nsteps\n"
      ],
      "metadata": {
        "id": "1QdsadY0ta5M"
      },
      "execution_count": null,
      "outputs": []
    },
    {
      "cell_type": "markdown",
      "source": [
        "### Time resolution of enrichment phase"
      ],
      "metadata": {
        "id": "OmJfts_UtqXh"
      }
    },
    {
      "cell_type": "code",
      "source": [
        "# Let plot the initial state \n",
        "\n",
        "plt.figure()\n",
        "dolfin.plot(c_n)\n",
        "\n",
        "# Create a list to store the value of the total mass\n",
        "mass=dolfin.assemble(u_n*dolfin.dx(mesh))\n",
        "spanmass=[mass]\n",
        "spantime=[t]\n",
        "\n",
        "for n in range(num_steps):\n",
        "\n",
        "    # Update current time\n",
        "    t += dt\n",
        "   \n",
        "    # update system of equations\n",
        "    u = dolfin.TrialFunction(V)\n",
        "    v = dolfin.TestFunction(V)\n",
        "    S=-dolfin.Constant(0) # uniform source term\n",
        "    g=dolfin.Constant(0) # flow condition on Neumann boundaries\n",
        "    # We update with new initial solution and sink term\n",
        "    F = u*v*dolfin.dx + k*dt*dolfin.inner(dolfin.grad(u), dolfin.grad(v))*dolfin.dx - (c_n + dt*S)*v*dolfin.dx+ dt*g*v*dolfin.ds\n",
        "    a, L = dolfin.lhs(F), dolfin.rhs(F)\n",
        "\n",
        "\n",
        "    # Solve variational problem\n",
        "    c = dolfin.Function(V)\n",
        "    dolfin.solve(a == L, c,bc)\n",
        "\n",
        "    # Update previous solution\n",
        "    c_n.assign(c)\n",
        "\n",
        "    #add the mass to the list\n",
        "    mass=dolfin.assemble(c_n*dolfin.dx(mesh))\n",
        "    spanmass.append(mass)\n",
        "    spantime.append(t)\n",
        "\n",
        "\n",
        "# plot the final concentration profile\n",
        "plt.figure()\n",
        "dolfin.plot(c)"
      ],
      "metadata": {
        "id": "TTjurIXEplQB",
        "outputId": "1af2b574-de90-4250-a2af-eb0227915c70",
        "colab": {
          "base_uri": "https://localhost:8080/",
          "height": 530
        }
      },
      "execution_count": null,
      "outputs": [
        {
          "output_type": "execute_result",
          "data": {
            "text/plain": [
              "<matplotlib.tri.tricontour.TriContourSet at 0x7f10bdf13f90>"
            ]
          },
          "metadata": {},
          "execution_count": 204
        },
        {
          "output_type": "display_data",
          "data": {
            "text/plain": [
              "<Figure size 432x288 with 1 Axes>"
            ],
            "image/png": "[encoded data removed]"
          },
          "metadata": {
            "needs_background": "light"
          }
        },
        {
          "output_type": "display_data",
          "data": {
            "text/plain": [
              "<Figure size 432x288 with 1 Axes>"
            ],
            "image/png": "[encoded data removed]"
          },
          "metadata": {
            "needs_background": "light"
          }
        }
      ]
    },
    {
      "cell_type": "markdown",
      "source": [
        "We can see that after 6 hours, the tracer only entered the outer surface of the brain. This is very similar to what is seen on the MRI data.\n",
        "\n"
      ],
      "metadata": {
        "id": "muCbzuaGuHTG"
      }
    },
    {
      "cell_type": "markdown",
      "metadata": {
        "id": "6HnYtJUIuVjA"
      },
      "source": [
        "\n",
        "\n",
        "![image.png](https://github.com/AlexandraVallet/fenicslectures/blob/main/images/brain_enrichment.png?raw=1)\n",
        "\n"
      ]
    },
    {
      "cell_type": "markdown",
      "source": [
        "Let plot the evolution of the integral of concentration on the whole domain over time."
      ],
      "metadata": {
        "id": "DH-VF6MNud0U"
      }
    },
    {
      "cell_type": "code",
      "source": [
        "# We normalise the results by the max .\n",
        "maxmass=spanmass[-1]\n",
        "plt.plot(np.array(spantime)/60/60,spanmass/maxmass*100)\n",
        "plt.ylabel('Mass normalised (%)')\n",
        "plt.xlabel('Time (h)')"
      ],
      "metadata": {
        "id": "WnMulJN6rWCL",
        "outputId": "c38fe048-09a6-4103-8739-a1c667bb7352",
        "colab": {
          "base_uri": "https://localhost:8080/",
          "height": 296
        }
      },
      "execution_count": null,
      "outputs": [
        {
          "output_type": "execute_result",
          "data": {
            "text/plain": [
              "Text(0.5, 0, 'Time (h)')"
            ]
          },
          "metadata": {},
          "execution_count": 196
        },
        {
          "output_type": "display_data",
          "data": {
            "text/plain": [
              "<Figure size 432x288 with 1 Axes>"
            ],
            "image/png": "[encoded data removed]"
          },
          "metadata": {
            "needs_background": "light"
          }
        }
      ]
    },
    {
      "cell_type": "markdown",
      "source": [
        "We store the results for further plotting in the following."
      ],
      "metadata": {
        "id": "2fe5YRbuuy2b"
      }
    },
    {
      "cell_type": "code",
      "source": [
        "c6h=dolfin.interpolate(c_n, V)\n",
        "t6h=tend\n",
        "spantime6h=spantime\n",
        "spanmass6h=spanmass"
      ],
      "metadata": {
        "id": "qqmwUytuvxkS"
      },
      "execution_count": null,
      "outputs": []
    },
    {
      "cell_type": "markdown",
      "source": [
        "## Clearance phase\n",
        "\n",
        "\n",
        "### Source term \n",
        "Lets now simulate the clearance phase. We assume a uniform source term, define to be proportional to \n",
        "$$ Q_{CSF}/V_{brain} \\times c_n$$\n",
        "with $V_{brain}$ the volume of the brain, $Q_{CSF}$ the absorption rate of CSF in humans. The source term will therefor be updated at each time step. "
      ],
      "metadata": {
        "id": "-vBF3vjYwrW6"
      }
    },
    {
      "cell_type": "code",
      "source": [
        "brainvol=4/3*3.14*8**3-4/3*3.14*2**3\n",
        "brainsurf=4*3.14*8**2\n",
        "\n",
        "QCSF=500/(60*60*24)"
      ],
      "metadata": {
        "id": "aLmGUaqkwpRF"
      },
      "execution_count": null,
      "outputs": []
    },
    {
      "cell_type": "markdown",
      "source": [
        "\n",
        "\n",
        "### Boundary conditions \n",
        "\n",
        "As we are in the scenario when absorption of the CSF occurs homogeneously within the brain, we assume a no flow boundary condition on the outer part (subarachnoid space).\n",
        "\n",
        "\n",
        "\n"
      ],
      "metadata": {
        "id": "Tf8ObkqFu3My"
      }
    },
    {
      "cell_type": "code",
      "source": [
        "g=dolfin.Constant(0) # flow condition on Neumann boundaries"
      ],
      "metadata": {
        "id": "FmhHMGkbw_bK"
      },
      "execution_count": null,
      "outputs": []
    },
    {
      "cell_type": "markdown",
      "source": [
        "On the inner part (ventricles) we assume that the tracer concentration is neglectable and use a Dirichlet boundary condition with $c=0$."
      ],
      "metadata": {
        "id": "AiMRBCbcxBZN"
      }
    },
    {
      "cell_type": "code",
      "source": [
        "bc = dolfin.DirichletBC(V, dolfin.Constant(0) , inner)"
      ],
      "metadata": {
        "id": "Mtxa9YmkvxSA"
      },
      "execution_count": null,
      "outputs": []
    },
    {
      "cell_type": "markdown",
      "source": [
        "### Initial condition \n",
        "\n",
        "The initial condition correspond to the profile of concentration we computed at t=6 hours. "
      ],
      "metadata": {
        "id": "ltSt4NzywR5U"
      }
    },
    {
      "cell_type": "code",
      "source": [
        "c_n = dolfin.interpolate(c6h, V)"
      ],
      "metadata": {
        "id": "sdnvUjD4wSDu"
      },
      "execution_count": null,
      "outputs": []
    },
    {
      "cell_type": "markdown",
      "source": [
        "### Time stepping"
      ],
      "metadata": {
        "id": "lnziTrKXwJTH"
      }
    },
    {
      "cell_type": "code",
      "source": [
        "# We now start simulation at 6 hours.\n",
        "t = t6h\n",
        "\n",
        "tend=60*60*48 # seconds\n",
        "\n",
        "num_steps=100\n",
        "\n",
        "dt=(tend-t)/num_steps"
      ],
      "metadata": {
        "id": "MzTLOq6nwg9z"
      },
      "execution_count": null,
      "outputs": []
    },
    {
      "cell_type": "code",
      "source": [
        "plt.figure()\n",
        "dolfin.plot(u_n)\n",
        "\n",
        "# Create a list to store the value of the total mass\n",
        "mass=dolfin.assemble(u_n*dolfin.dx(mesh))\n",
        "spanmass=[mass]\n",
        "spantime=[t]\n",
        "\n",
        "for n in range(num_steps):\n",
        "\n",
        "    # Update current time\n",
        "    t += dt\n",
        "\n",
        "    # update system of equations\n",
        "    u = dolfin.TrialFunction(V)\n",
        "    v = dolfin.TestFunction(V)\n",
        "\n",
        "    # option 1 : uniform CSF absorption within the brain\n",
        "    S=-u_n*QCSF/brainvol*4  #  source term we chose a factor 4 here to get results close to the data\n",
        "\n",
        "    # We update with new initial solution and sink term\n",
        "    F = u*v*dolfin.dx + k*dt*dolfin.inner(dolfin.grad(u), dolfin.grad(v))*dolfin.dx - (c_n + dt*S)*v*dolfin.dx+ dt*g*v*dolfin.ds\n",
        "    a, L = dolfin.lhs(F), dolfin.rhs(F)\n",
        "\n",
        "\n",
        "    # Solve variational problem\n",
        "    c = dolfin.Function(V)\n",
        "    dolfin.solve(a == L, c,bc)\n",
        "\n",
        "    # Update previous solution\n",
        "    c_n.assign(c)\n",
        "\n",
        "    #add the mass to the list\n",
        "    mass=dolfin.assemble(c_n*dolfin.dx(mesh))\n",
        "    spanmass.append(mass)\n",
        "    spantime.append(t)\n",
        "\n",
        "\n",
        "# plot the final concentration profile\n",
        "plt.figure()\n",
        "dolfin.plot(c)"
      ],
      "metadata": {
        "id": "5QqzTwq7v5sd",
        "outputId": "d7658df2-1dbe-4f10-a742-6b0013343e18",
        "colab": {
          "base_uri": "https://localhost:8080/",
          "height": 530
        }
      },
      "execution_count": null,
      "outputs": [
        {
          "output_type": "execute_result",
          "data": {
            "text/plain": [
              "<matplotlib.tri.tricontour.TriContourSet at 0x7f10c0380750>"
            ]
          },
          "metadata": {},
          "execution_count": 225
        },
        {
          "output_type": "display_data",
          "data": {
            "text/plain": [
              "<Figure size 432x288 with 1 Axes>"
            ],
            "image/png": "[encoded data removed]"
          },
          "metadata": {
            "needs_background": "light"
          }
        },
        {
          "output_type": "display_data",
          "data": {
            "text/plain": [
              "<Figure size 432x288 with 1 Axes>"
            ],
            "image/png": "[encoded data removed]"
          },
          "metadata": {
            "needs_background": "light"
          }
        }
      ]
    },
    {
      "cell_type": "markdown",
      "source": [
        "After 48 hours, the concentration profile is more homogeneous that at 6 hours. Tracer are now present in half of the brain. This is similar to what we can see on MRI data.\n",
        "\n",
        "![image.png](https://github.com/AlexandraVallet/fenicslectures/blob/main/images/brain_enrichment.png?raw=1)"
      ],
      "metadata": {
        "id": "ZBufxKmDxTDu"
      }
    },
    {
      "cell_type": "code",
      "source": [
        "#save results\n",
        "spanmassk0=spanmass"
      ],
      "metadata": {
        "id": "vdp5jWXp2mVe"
      },
      "execution_count": null,
      "outputs": []
    },
    {
      "cell_type": "markdown",
      "source": [
        "### Change of permeability\n",
        "\n",
        "Let redo the clearance phase simulation using another diffusion coefficient. The apparent difffusion can be indeed modified by several physiological factors like the change of the astrocyte size and consequently of the extracellular space volume or the change of the pulsation of the vessel walls. Both phenomena were reported to occur during sleep. To see the effect of such a change of the apparent diffusion, we use a factor 10. We will apply this enhacement factor during 8 hours between 10h and 18h after the injection of tracer to mimic a change of physiology during one night."
      ],
      "metadata": {
        "id": "gPLWdJJuxviC"
      }
    },
    {
      "cell_type": "code",
      "source": [
        "# save the original diffusion coefficient\n",
        "k0=k\n",
        "# choose an enhancement factor\n",
        "enhancement_factor=10\n"
      ],
      "metadata": {
        "id": "u8hKsQ-uxtCT"
      },
      "execution_count": null,
      "outputs": []
    },
    {
      "cell_type": "markdown",
      "source": [
        "### Time resolution of the clearance phase with modified apparend diffusion coefficient"
      ],
      "metadata": {
        "id": "mlJ_G1nYCkB0"
      }
    },
    {
      "cell_type": "code",
      "source": [
        "plt.figure()\n",
        "dolfin.plot(c_n)\n",
        "\n",
        "# Create a list to store the value of the total mass\n",
        "mass=dolfin.assemble(u_n*dolfin.dx(mesh))\n",
        "spanmass=[mass]\n",
        "spantime=[t]\n",
        "\n",
        "for n in range(num_steps):\n",
        "\n",
        "    # Update current time\n",
        "    t += dt\n",
        "\n",
        "    # set the apparent diffusion value\n",
        "    if (t>= 60*60*10)&(t<= 60*60*18):\n",
        "      k=k0*enhancement_factor\n",
        "    else :\n",
        "      k=k0\n",
        "\n",
        "    # update system of equations\n",
        "    u = dolfin.TrialFunction(V)\n",
        "    v = dolfin.TestFunction(V)\n",
        "\n",
        "    # option 1\n",
        "    S=-u_n*QCSF/brainvol*4 #  source term\n",
        "    g=dolfin.Constant(0) # flow condition on Neumann boundaries\n",
        "\n",
        "\n",
        "    # We update with new initial solution and sink term\n",
        "    F = u*v*dolfin.dx + k*dt*dolfin.inner(dolfin.grad(u), dolfin.grad(v))*dolfin.dx - (c_n + dt*S)*v*dolfin.dx+ dt*g*v*dolfin.ds\n",
        "    a, L = dolfin.lhs(F), dolfin.rhs(F)\n",
        "\n",
        "\n",
        "    # Solve variational problem\n",
        "    c = dolfin.Function(V)\n",
        "    dolfin.solve(a == L, c,bc)\n",
        "\n",
        "    # Update previous solution\n",
        "    c_n.assign(c)\n",
        "\n",
        "    #add the mass to the list\n",
        "    mass=dolfin.assemble(u_n*dolfin.dx(mesh))\n",
        "    spanmass.append(mass)\n",
        "    spantime.append(t)\n",
        "\n",
        "\n",
        "# plot the final concentration profile\n",
        "plt.figure()\n",
        "dolfin.plot(c)"
      ],
      "metadata": {
        "id": "U0IkSsJS3CCU",
        "outputId": "cf8ff1d1-19ee-40e8-e4fc-41b66933762c",
        "colab": {
          "base_uri": "https://localhost:8080/",
          "height": 530
        }
      },
      "execution_count": null,
      "outputs": [
        {
          "output_type": "execute_result",
          "data": {
            "text/plain": [
              "<matplotlib.tri.tricontour.TriContourSet at 0x7f10ba374710>"
            ]
          },
          "metadata": {},
          "execution_count": 231
        },
        {
          "output_type": "display_data",
          "data": {
            "text/plain": [
              "<Figure size 432x288 with 1 Axes>"
            ],
            "image/png": "[encoded data removed]"
          },
          "metadata": {
            "needs_background": "light"
          }
        },
        {
          "output_type": "display_data",
          "data": {
            "text/plain": [
              "<Figure size 432x288 with 1 Axes>"
            ],
            "image/png": "[encoded data removed]"
          },
          "metadata": {
            "needs_background": "light"
          }
        }
      ]
    },
    {
      "cell_type": "markdown",
      "source": [
        "### Time evolution of total tracer mass\n",
        "Let compare the time evolution of tracer accumulatio in the brain with the measurement. "
      ],
      "metadata": {
        "id": "6GfNB0I0DzCl"
      }
    },
    {
      "cell_type": "code",
      "source": [
        "# compare the two simulations\n",
        "plt.plot(np.array(spantime6h)/60/60,spanmass6h)\n",
        "plt.plot(np.array(spantime)/60/60,spanmass, label='k=k_0 x 10 during the night')\n",
        "plt.plot(np.array(spantime)/60/60,spanmassk0, label='k=k_0')\n",
        "plt.ylabel('Mass')\n",
        "plt.xlabel('Time (h)')\n",
        "plt.legend()"
      ],
      "metadata": {
        "id": "tFnAmkqx2gjd",
        "outputId": "56697baf-d31c-4aec-aaef-d207585626bd",
        "colab": {
          "base_uri": "https://localhost:8080/",
          "height": 296
        }
      },
      "execution_count": null,
      "outputs": [
        {
          "output_type": "execute_result",
          "data": {
            "text/plain": [
              "<matplotlib.legend.Legend at 0x7f10ba293c10>"
            ]
          },
          "metadata": {},
          "execution_count": 233
        },
        {
          "output_type": "display_data",
          "data": {
            "text/plain": [
              "<Figure size 432x288 with 1 Axes>"
            ],
            "image/png": "[encoded data removed]"
          },
          "metadata": {
            "needs_background": "light"
          }
        }
      ]
    },
    {
      "cell_type": "markdown",
      "source": [
        "We can clearly see that the tracer is cleared more efficiently in the case of increased apparent diffusion during the night. We can compare the curves of our prediction with the actual measurment on MRI : \n",
        "\n",
        "![image.png](https://github.com/AlexandraVallet/fenicslectures/blob/main/images/tracer_time.png?raw=1)"
      ],
      "metadata": {
        "id": "VLp-cwKNEL-B"
      }
    },
    {
      "cell_type": "markdown",
      "source": [
        "Using our simple diffusion model, we can interpret the data by changing the apparent diffusion. This allow us to provide an hypothesis about the effect of sleep of brain clearance : \n",
        "*\" During sleep, the apparent diffusion is increased by a factor superior to 10 that enhance the clearance of solute\".*\n",
        "\n",
        "This hypothesis would need to be validated by further experiments. \n",
        "\n",
        "\n",
        "There is not a unique way to interpret the results of this paper. All we can do so far is to test hypothesis with our computational model. \n",
        "\n",
        "This is one of the **strengh of the in silico biomechanical models** : we can prepare in vivo experiments by performing preliminary in silico experiements to test the effects of several hypothesis. This is much less costly, provide physical insight on the processes, and from an ethical point of view, it do not involve invasive procedure on humans or animals."
      ],
      "metadata": {
        "id": "-mcy_B23EfZk"
      }
    }
  ]
}